{
  "nbformat": 4,
  "nbformat_minor": 0,
  "metadata": {
    "colab": {
      "name": "EDA(Harsha Vardhan Reddy).ipynb",
      "provenance": [],
      "collapsed_sections": [],
      "authorship_tag": "ABX9TyPO1K9mg/npUAP5m7XZHPbz",
      "include_colab_link": true
    },
    "kernelspec": {
      "name": "python3",
      "display_name": "Python 3"
    },
    "language_info": {
      "name": "python"
    }
  },
  "cells": [
    {
      "cell_type": "markdown",
      "metadata": {
        "id": "view-in-github",
        "colab_type": "text"
      },
      "source": [
        "<a href=\"https://colab.research.google.com/github/Harshavardhan912/Collabnotebooks-Majorproject-Rinex/blob/main/EDA(Harsha_Vardhan_Reddy).ipynb\" target=\"_parent\"><img src=\"https://colab.research.google.com/assets/colab-badge.svg\" alt=\"Open In Colab\"/></a>"
      ]
    },
    {
      "cell_type": "code",
      "execution_count": null,
      "metadata": {
        "colab": {
          "base_uri": "https://localhost:8080/",
          "height": 797
        },
        "id": "jpOsFAoWM0Co",
        "outputId": "3d6059d6-fb59-4ae9-dd1a-2499f98d1e27"
      },
      "outputs": [
        {
          "output_type": "execute_result",
          "data": {
            "text/plain": [
              "       index                                            product  \\\n",
              "0          1             Garlic Oil - Vegetarian Capsule 500 mg   \n",
              "1          2                              Water Bottle - Orange   \n",
              "2          3                     Brass Angle Deep - Plain, No.2   \n",
              "3          4  Cereal Flip Lid Container/Storage Jar - Assort...   \n",
              "4          5                 Creme Soft Soap - For Hands & Body   \n",
              "...      ...                                                ...   \n",
              "27550  27551         Wottagirl! Perfume Spray - Heaven, Classic   \n",
              "27551  27552                                           Rosemary   \n",
              "27552  27553                       Peri-Peri Sweet Potato Chips   \n",
              "27553  27554                          Green Tea - Pure Original   \n",
              "27554  27555                     United Dreams Go Far Deodorant   \n",
              "\n",
              "                     category              sub_category  \\\n",
              "0            Beauty & Hygiene                 Hair Care   \n",
              "1      Kitchen, Garden & Pets     Storage & Accessories   \n",
              "2        Cleaning & Household               Pooja Needs   \n",
              "3        Cleaning & Household      Bins & Bathroom Ware   \n",
              "4            Beauty & Hygiene          Bath & Hand Wash   \n",
              "...                       ...                       ...   \n",
              "27550        Beauty & Hygiene         Fragrances & Deos   \n",
              "27551    Gourmet & World Food    Cooking & Baking Needs   \n",
              "27552    Gourmet & World Food  Snacks, Dry Fruits, Nuts   \n",
              "27553               Beverages                       Tea   \n",
              "27554        Beauty & Hygiene            Men's Grooming   \n",
              "\n",
              "                            brand  sale_price  market_price  \\\n",
              "0               Sri Sri Ayurveda       220.00         220.0   \n",
              "1                      Mastercook      180.00         180.0   \n",
              "2                             Trm      119.00         250.0   \n",
              "3                          Nakoda      149.00         176.0   \n",
              "4                           Nivea      162.00         162.0   \n",
              "...                           ...         ...           ...   \n",
              "27550                      Layerr      199.20         249.0   \n",
              "27551                    Puramate       67.50          75.0   \n",
              "27552                      FabBox      200.00         200.0   \n",
              "27553                      Tetley      396.00         495.0   \n",
              "27554  United Colors Of Benetton       214.53         390.0   \n",
              "\n",
              "                           type  rating  \\\n",
              "0              Hair Oil & Serum     4.1   \n",
              "1        Water & Fridge Bottles     2.3   \n",
              "2               Lamp & Lamp Oil     3.4   \n",
              "3      Laundry, Storage Baskets     3.7   \n",
              "4          Bathing Bars & Soaps     4.4   \n",
              "...                         ...     ...   \n",
              "27550                   Perfume     3.9   \n",
              "27551  Herbs, Seasonings & Rubs     4.0   \n",
              "27552            Nachos & Chips     3.8   \n",
              "27553                  Tea Bags     4.2   \n",
              "27554          Men's Deodorants     4.5   \n",
              "\n",
              "                                             description  \n",
              "0      This Product contains Garlic Oil that is known...  \n",
              "1      Each product is microwave safe (without lid), ...  \n",
              "2      A perfect gift for all occasions, be it your m...  \n",
              "3      Multipurpose container with an attractive desi...  \n",
              "4      Nivea Creme Soft Soap gives your skin the best...  \n",
              "...                                                  ...  \n",
              "27550  Layerr brings you Wottagirl Classic fragrant b...  \n",
              "27551  Puramate rosemary is enough to transform a dis...  \n",
              "27552  We have taken the richness of Sweet Potatoes (...  \n",
              "27553  Tetley Green Tea with its refreshing pure, ori...  \n",
              "27554  The new mens fragrance from the United Dreams ...  \n",
              "\n",
              "[27555 rows x 10 columns]"
            ],
            "text/html": [
              "\n",
              "  <div id=\"df-96643556-ec38-48ab-839a-bba11b08776f\">\n",
              "    <div class=\"colab-df-container\">\n",
              "      <div>\n",
              "<style scoped>\n",
              "    .dataframe tbody tr th:only-of-type {\n",
              "        vertical-align: middle;\n",
              "    }\n",
              "\n",
              "    .dataframe tbody tr th {\n",
              "        vertical-align: top;\n",
              "    }\n",
              "\n",
              "    .dataframe thead th {\n",
              "        text-align: right;\n",
              "    }\n",
              "</style>\n",
              "<table border=\"1\" class=\"dataframe\">\n",
              "  <thead>\n",
              "    <tr style=\"text-align: right;\">\n",
              "      <th></th>\n",
              "      <th>index</th>\n",
              "      <th>product</th>\n",
              "      <th>category</th>\n",
              "      <th>sub_category</th>\n",
              "      <th>brand</th>\n",
              "      <th>sale_price</th>\n",
              "      <th>market_price</th>\n",
              "      <th>type</th>\n",
              "      <th>rating</th>\n",
              "      <th>description</th>\n",
              "    </tr>\n",
              "  </thead>\n",
              "  <tbody>\n",
              "    <tr>\n",
              "      <th>0</th>\n",
              "      <td>1</td>\n",
              "      <td>Garlic Oil - Vegetarian Capsule 500 mg</td>\n",
              "      <td>Beauty &amp; Hygiene</td>\n",
              "      <td>Hair Care</td>\n",
              "      <td>Sri Sri Ayurveda</td>\n",
              "      <td>220.00</td>\n",
              "      <td>220.0</td>\n",
              "      <td>Hair Oil &amp; Serum</td>\n",
              "      <td>4.1</td>\n",
              "      <td>This Product contains Garlic Oil that is known...</td>\n",
              "    </tr>\n",
              "    <tr>\n",
              "      <th>1</th>\n",
              "      <td>2</td>\n",
              "      <td>Water Bottle - Orange</td>\n",
              "      <td>Kitchen, Garden &amp; Pets</td>\n",
              "      <td>Storage &amp; Accessories</td>\n",
              "      <td>Mastercook</td>\n",
              "      <td>180.00</td>\n",
              "      <td>180.0</td>\n",
              "      <td>Water &amp; Fridge Bottles</td>\n",
              "      <td>2.3</td>\n",
              "      <td>Each product is microwave safe (without lid), ...</td>\n",
              "    </tr>\n",
              "    <tr>\n",
              "      <th>2</th>\n",
              "      <td>3</td>\n",
              "      <td>Brass Angle Deep - Plain, No.2</td>\n",
              "      <td>Cleaning &amp; Household</td>\n",
              "      <td>Pooja Needs</td>\n",
              "      <td>Trm</td>\n",
              "      <td>119.00</td>\n",
              "      <td>250.0</td>\n",
              "      <td>Lamp &amp; Lamp Oil</td>\n",
              "      <td>3.4</td>\n",
              "      <td>A perfect gift for all occasions, be it your m...</td>\n",
              "    </tr>\n",
              "    <tr>\n",
              "      <th>3</th>\n",
              "      <td>4</td>\n",
              "      <td>Cereal Flip Lid Container/Storage Jar - Assort...</td>\n",
              "      <td>Cleaning &amp; Household</td>\n",
              "      <td>Bins &amp; Bathroom Ware</td>\n",
              "      <td>Nakoda</td>\n",
              "      <td>149.00</td>\n",
              "      <td>176.0</td>\n",
              "      <td>Laundry, Storage Baskets</td>\n",
              "      <td>3.7</td>\n",
              "      <td>Multipurpose container with an attractive desi...</td>\n",
              "    </tr>\n",
              "    <tr>\n",
              "      <th>4</th>\n",
              "      <td>5</td>\n",
              "      <td>Creme Soft Soap - For Hands &amp; Body</td>\n",
              "      <td>Beauty &amp; Hygiene</td>\n",
              "      <td>Bath &amp; Hand Wash</td>\n",
              "      <td>Nivea</td>\n",
              "      <td>162.00</td>\n",
              "      <td>162.0</td>\n",
              "      <td>Bathing Bars &amp; Soaps</td>\n",
              "      <td>4.4</td>\n",
              "      <td>Nivea Creme Soft Soap gives your skin the best...</td>\n",
              "    </tr>\n",
              "    <tr>\n",
              "      <th>...</th>\n",
              "      <td>...</td>\n",
              "      <td>...</td>\n",
              "      <td>...</td>\n",
              "      <td>...</td>\n",
              "      <td>...</td>\n",
              "      <td>...</td>\n",
              "      <td>...</td>\n",
              "      <td>...</td>\n",
              "      <td>...</td>\n",
              "      <td>...</td>\n",
              "    </tr>\n",
              "    <tr>\n",
              "      <th>27550</th>\n",
              "      <td>27551</td>\n",
              "      <td>Wottagirl! Perfume Spray - Heaven, Classic</td>\n",
              "      <td>Beauty &amp; Hygiene</td>\n",
              "      <td>Fragrances &amp; Deos</td>\n",
              "      <td>Layerr</td>\n",
              "      <td>199.20</td>\n",
              "      <td>249.0</td>\n",
              "      <td>Perfume</td>\n",
              "      <td>3.9</td>\n",
              "      <td>Layerr brings you Wottagirl Classic fragrant b...</td>\n",
              "    </tr>\n",
              "    <tr>\n",
              "      <th>27551</th>\n",
              "      <td>27552</td>\n",
              "      <td>Rosemary</td>\n",
              "      <td>Gourmet &amp; World Food</td>\n",
              "      <td>Cooking &amp; Baking Needs</td>\n",
              "      <td>Puramate</td>\n",
              "      <td>67.50</td>\n",
              "      <td>75.0</td>\n",
              "      <td>Herbs, Seasonings &amp; Rubs</td>\n",
              "      <td>4.0</td>\n",
              "      <td>Puramate rosemary is enough to transform a dis...</td>\n",
              "    </tr>\n",
              "    <tr>\n",
              "      <th>27552</th>\n",
              "      <td>27553</td>\n",
              "      <td>Peri-Peri Sweet Potato Chips</td>\n",
              "      <td>Gourmet &amp; World Food</td>\n",
              "      <td>Snacks, Dry Fruits, Nuts</td>\n",
              "      <td>FabBox</td>\n",
              "      <td>200.00</td>\n",
              "      <td>200.0</td>\n",
              "      <td>Nachos &amp; Chips</td>\n",
              "      <td>3.8</td>\n",
              "      <td>We have taken the richness of Sweet Potatoes (...</td>\n",
              "    </tr>\n",
              "    <tr>\n",
              "      <th>27553</th>\n",
              "      <td>27554</td>\n",
              "      <td>Green Tea - Pure Original</td>\n",
              "      <td>Beverages</td>\n",
              "      <td>Tea</td>\n",
              "      <td>Tetley</td>\n",
              "      <td>396.00</td>\n",
              "      <td>495.0</td>\n",
              "      <td>Tea Bags</td>\n",
              "      <td>4.2</td>\n",
              "      <td>Tetley Green Tea with its refreshing pure, ori...</td>\n",
              "    </tr>\n",
              "    <tr>\n",
              "      <th>27554</th>\n",
              "      <td>27555</td>\n",
              "      <td>United Dreams Go Far Deodorant</td>\n",
              "      <td>Beauty &amp; Hygiene</td>\n",
              "      <td>Men's Grooming</td>\n",
              "      <td>United Colors Of Benetton</td>\n",
              "      <td>214.53</td>\n",
              "      <td>390.0</td>\n",
              "      <td>Men's Deodorants</td>\n",
              "      <td>4.5</td>\n",
              "      <td>The new mens fragrance from the United Dreams ...</td>\n",
              "    </tr>\n",
              "  </tbody>\n",
              "</table>\n",
              "<p>27555 rows × 10 columns</p>\n",
              "</div>\n",
              "      <button class=\"colab-df-convert\" onclick=\"convertToInteractive('df-96643556-ec38-48ab-839a-bba11b08776f')\"\n",
              "              title=\"Convert this dataframe to an interactive table.\"\n",
              "              style=\"display:none;\">\n",
              "        \n",
              "  <svg xmlns=\"http://www.w3.org/2000/svg\" height=\"24px\"viewBox=\"0 0 24 24\"\n",
              "       width=\"24px\">\n",
              "    <path d=\"M0 0h24v24H0V0z\" fill=\"none\"/>\n",
              "    <path d=\"M18.56 5.44l.94 2.06.94-2.06 2.06-.94-2.06-.94-.94-2.06-.94 2.06-2.06.94zm-11 1L8.5 8.5l.94-2.06 2.06-.94-2.06-.94L8.5 2.5l-.94 2.06-2.06.94zm10 10l.94 2.06.94-2.06 2.06-.94-2.06-.94-.94-2.06-.94 2.06-2.06.94z\"/><path d=\"M17.41 7.96l-1.37-1.37c-.4-.4-.92-.59-1.43-.59-.52 0-1.04.2-1.43.59L10.3 9.45l-7.72 7.72c-.78.78-.78 2.05 0 2.83L4 21.41c.39.39.9.59 1.41.59.51 0 1.02-.2 1.41-.59l7.78-7.78 2.81-2.81c.8-.78.8-2.07 0-2.86zM5.41 20L4 18.59l7.72-7.72 1.47 1.35L5.41 20z\"/>\n",
              "  </svg>\n",
              "      </button>\n",
              "      \n",
              "  <style>\n",
              "    .colab-df-container {\n",
              "      display:flex;\n",
              "      flex-wrap:wrap;\n",
              "      gap: 12px;\n",
              "    }\n",
              "\n",
              "    .colab-df-convert {\n",
              "      background-color: #E8F0FE;\n",
              "      border: none;\n",
              "      border-radius: 50%;\n",
              "      cursor: pointer;\n",
              "      display: none;\n",
              "      fill: #1967D2;\n",
              "      height: 32px;\n",
              "      padding: 0 0 0 0;\n",
              "      width: 32px;\n",
              "    }\n",
              "\n",
              "    .colab-df-convert:hover {\n",
              "      background-color: #E2EBFA;\n",
              "      box-shadow: 0px 1px 2px rgba(60, 64, 67, 0.3), 0px 1px 3px 1px rgba(60, 64, 67, 0.15);\n",
              "      fill: #174EA6;\n",
              "    }\n",
              "\n",
              "    [theme=dark] .colab-df-convert {\n",
              "      background-color: #3B4455;\n",
              "      fill: #D2E3FC;\n",
              "    }\n",
              "\n",
              "    [theme=dark] .colab-df-convert:hover {\n",
              "      background-color: #434B5C;\n",
              "      box-shadow: 0px 1px 3px 1px rgba(0, 0, 0, 0.15);\n",
              "      filter: drop-shadow(0px 1px 2px rgba(0, 0, 0, 0.3));\n",
              "      fill: #FFFFFF;\n",
              "    }\n",
              "  </style>\n",
              "\n",
              "      <script>\n",
              "        const buttonEl =\n",
              "          document.querySelector('#df-96643556-ec38-48ab-839a-bba11b08776f button.colab-df-convert');\n",
              "        buttonEl.style.display =\n",
              "          google.colab.kernel.accessAllowed ? 'block' : 'none';\n",
              "\n",
              "        async function convertToInteractive(key) {\n",
              "          const element = document.querySelector('#df-96643556-ec38-48ab-839a-bba11b08776f');\n",
              "          const dataTable =\n",
              "            await google.colab.kernel.invokeFunction('convertToInteractive',\n",
              "                                                     [key], {});\n",
              "          if (!dataTable) return;\n",
              "\n",
              "          const docLinkHtml = 'Like what you see? Visit the ' +\n",
              "            '<a target=\"_blank\" href=https://colab.research.google.com/notebooks/data_table.ipynb>data table notebook</a>'\n",
              "            + ' to learn more about interactive tables.';\n",
              "          element.innerHTML = '';\n",
              "          dataTable['output_type'] = 'display_data';\n",
              "          await google.colab.output.renderOutput(dataTable, element);\n",
              "          const docLink = document.createElement('div');\n",
              "          docLink.innerHTML = docLinkHtml;\n",
              "          element.appendChild(docLink);\n",
              "        }\n",
              "      </script>\n",
              "    </div>\n",
              "  </div>\n",
              "  "
            ]
          },
          "metadata": {},
          "execution_count": 42
        }
      ],
      "source": [
        "import pandas as pd\n",
        "df = pd.read_csv('/content/archive.zip')\n",
        "df    "
      ]
    },
    {
      "cell_type": "code",
      "source": [
        "df = df.drop(columns ='index') \n",
        "df"
      ],
      "metadata": {
        "colab": {
          "base_uri": "https://localhost:8080/",
          "height": 693
        },
        "id": "vxKkDKaRGgxr",
        "outputId": "9803550b-af22-46e0-f3fd-476a02c9a9aa"
      },
      "execution_count": null,
      "outputs": [
        {
          "output_type": "execute_result",
          "data": {
            "text/plain": [
              "                                                 product  \\\n",
              "0                 Garlic Oil - Vegetarian Capsule 500 mg   \n",
              "1                                  Water Bottle - Orange   \n",
              "2                         Brass Angle Deep - Plain, No.2   \n",
              "3      Cereal Flip Lid Container/Storage Jar - Assort...   \n",
              "4                     Creme Soft Soap - For Hands & Body   \n",
              "...                                                  ...   \n",
              "27550         Wottagirl! Perfume Spray - Heaven, Classic   \n",
              "27551                                           Rosemary   \n",
              "27552                       Peri-Peri Sweet Potato Chips   \n",
              "27553                          Green Tea - Pure Original   \n",
              "27554                     United Dreams Go Far Deodorant   \n",
              "\n",
              "                     category              sub_category  \\\n",
              "0            Beauty & Hygiene                 Hair Care   \n",
              "1      Kitchen, Garden & Pets     Storage & Accessories   \n",
              "2        Cleaning & Household               Pooja Needs   \n",
              "3        Cleaning & Household      Bins & Bathroom Ware   \n",
              "4            Beauty & Hygiene          Bath & Hand Wash   \n",
              "...                       ...                       ...   \n",
              "27550        Beauty & Hygiene         Fragrances & Deos   \n",
              "27551    Gourmet & World Food    Cooking & Baking Needs   \n",
              "27552    Gourmet & World Food  Snacks, Dry Fruits, Nuts   \n",
              "27553               Beverages                       Tea   \n",
              "27554        Beauty & Hygiene            Men's Grooming   \n",
              "\n",
              "                            brand  sale_price  market_price  \\\n",
              "0               Sri Sri Ayurveda       220.00         220.0   \n",
              "1                      Mastercook      180.00         180.0   \n",
              "2                             Trm      119.00         250.0   \n",
              "3                          Nakoda      149.00         176.0   \n",
              "4                           Nivea      162.00         162.0   \n",
              "...                           ...         ...           ...   \n",
              "27550                      Layerr      199.20         249.0   \n",
              "27551                    Puramate       67.50          75.0   \n",
              "27552                      FabBox      200.00         200.0   \n",
              "27553                      Tetley      396.00         495.0   \n",
              "27554  United Colors Of Benetton       214.53         390.0   \n",
              "\n",
              "                           type  rating  \\\n",
              "0              Hair Oil & Serum     4.1   \n",
              "1        Water & Fridge Bottles     2.3   \n",
              "2               Lamp & Lamp Oil     3.4   \n",
              "3      Laundry, Storage Baskets     3.7   \n",
              "4          Bathing Bars & Soaps     4.4   \n",
              "...                         ...     ...   \n",
              "27550                   Perfume     3.9   \n",
              "27551  Herbs, Seasonings & Rubs     4.0   \n",
              "27552            Nachos & Chips     3.8   \n",
              "27553                  Tea Bags     4.2   \n",
              "27554          Men's Deodorants     4.5   \n",
              "\n",
              "                                             description  \n",
              "0      This Product contains Garlic Oil that is known...  \n",
              "1      Each product is microwave safe (without lid), ...  \n",
              "2      A perfect gift for all occasions, be it your m...  \n",
              "3      Multipurpose container with an attractive desi...  \n",
              "4      Nivea Creme Soft Soap gives your skin the best...  \n",
              "...                                                  ...  \n",
              "27550  Layerr brings you Wottagirl Classic fragrant b...  \n",
              "27551  Puramate rosemary is enough to transform a dis...  \n",
              "27552  We have taken the richness of Sweet Potatoes (...  \n",
              "27553  Tetley Green Tea with its refreshing pure, ori...  \n",
              "27554  The new mens fragrance from the United Dreams ...  \n",
              "\n",
              "[27555 rows x 9 columns]"
            ],
            "text/html": [
              "\n",
              "  <div id=\"df-78ed4647-c553-4622-b8df-e128a0fd2629\">\n",
              "    <div class=\"colab-df-container\">\n",
              "      <div>\n",
              "<style scoped>\n",
              "    .dataframe tbody tr th:only-of-type {\n",
              "        vertical-align: middle;\n",
              "    }\n",
              "\n",
              "    .dataframe tbody tr th {\n",
              "        vertical-align: top;\n",
              "    }\n",
              "\n",
              "    .dataframe thead th {\n",
              "        text-align: right;\n",
              "    }\n",
              "</style>\n",
              "<table border=\"1\" class=\"dataframe\">\n",
              "  <thead>\n",
              "    <tr style=\"text-align: right;\">\n",
              "      <th></th>\n",
              "      <th>product</th>\n",
              "      <th>category</th>\n",
              "      <th>sub_category</th>\n",
              "      <th>brand</th>\n",
              "      <th>sale_price</th>\n",
              "      <th>market_price</th>\n",
              "      <th>type</th>\n",
              "      <th>rating</th>\n",
              "      <th>description</th>\n",
              "    </tr>\n",
              "  </thead>\n",
              "  <tbody>\n",
              "    <tr>\n",
              "      <th>0</th>\n",
              "      <td>Garlic Oil - Vegetarian Capsule 500 mg</td>\n",
              "      <td>Beauty &amp; Hygiene</td>\n",
              "      <td>Hair Care</td>\n",
              "      <td>Sri Sri Ayurveda</td>\n",
              "      <td>220.00</td>\n",
              "      <td>220.0</td>\n",
              "      <td>Hair Oil &amp; Serum</td>\n",
              "      <td>4.1</td>\n",
              "      <td>This Product contains Garlic Oil that is known...</td>\n",
              "    </tr>\n",
              "    <tr>\n",
              "      <th>1</th>\n",
              "      <td>Water Bottle - Orange</td>\n",
              "      <td>Kitchen, Garden &amp; Pets</td>\n",
              "      <td>Storage &amp; Accessories</td>\n",
              "      <td>Mastercook</td>\n",
              "      <td>180.00</td>\n",
              "      <td>180.0</td>\n",
              "      <td>Water &amp; Fridge Bottles</td>\n",
              "      <td>2.3</td>\n",
              "      <td>Each product is microwave safe (without lid), ...</td>\n",
              "    </tr>\n",
              "    <tr>\n",
              "      <th>2</th>\n",
              "      <td>Brass Angle Deep - Plain, No.2</td>\n",
              "      <td>Cleaning &amp; Household</td>\n",
              "      <td>Pooja Needs</td>\n",
              "      <td>Trm</td>\n",
              "      <td>119.00</td>\n",
              "      <td>250.0</td>\n",
              "      <td>Lamp &amp; Lamp Oil</td>\n",
              "      <td>3.4</td>\n",
              "      <td>A perfect gift for all occasions, be it your m...</td>\n",
              "    </tr>\n",
              "    <tr>\n",
              "      <th>3</th>\n",
              "      <td>Cereal Flip Lid Container/Storage Jar - Assort...</td>\n",
              "      <td>Cleaning &amp; Household</td>\n",
              "      <td>Bins &amp; Bathroom Ware</td>\n",
              "      <td>Nakoda</td>\n",
              "      <td>149.00</td>\n",
              "      <td>176.0</td>\n",
              "      <td>Laundry, Storage Baskets</td>\n",
              "      <td>3.7</td>\n",
              "      <td>Multipurpose container with an attractive desi...</td>\n",
              "    </tr>\n",
              "    <tr>\n",
              "      <th>4</th>\n",
              "      <td>Creme Soft Soap - For Hands &amp; Body</td>\n",
              "      <td>Beauty &amp; Hygiene</td>\n",
              "      <td>Bath &amp; Hand Wash</td>\n",
              "      <td>Nivea</td>\n",
              "      <td>162.00</td>\n",
              "      <td>162.0</td>\n",
              "      <td>Bathing Bars &amp; Soaps</td>\n",
              "      <td>4.4</td>\n",
              "      <td>Nivea Creme Soft Soap gives your skin the best...</td>\n",
              "    </tr>\n",
              "    <tr>\n",
              "      <th>...</th>\n",
              "      <td>...</td>\n",
              "      <td>...</td>\n",
              "      <td>...</td>\n",
              "      <td>...</td>\n",
              "      <td>...</td>\n",
              "      <td>...</td>\n",
              "      <td>...</td>\n",
              "      <td>...</td>\n",
              "      <td>...</td>\n",
              "    </tr>\n",
              "    <tr>\n",
              "      <th>27550</th>\n",
              "      <td>Wottagirl! Perfume Spray - Heaven, Classic</td>\n",
              "      <td>Beauty &amp; Hygiene</td>\n",
              "      <td>Fragrances &amp; Deos</td>\n",
              "      <td>Layerr</td>\n",
              "      <td>199.20</td>\n",
              "      <td>249.0</td>\n",
              "      <td>Perfume</td>\n",
              "      <td>3.9</td>\n",
              "      <td>Layerr brings you Wottagirl Classic fragrant b...</td>\n",
              "    </tr>\n",
              "    <tr>\n",
              "      <th>27551</th>\n",
              "      <td>Rosemary</td>\n",
              "      <td>Gourmet &amp; World Food</td>\n",
              "      <td>Cooking &amp; Baking Needs</td>\n",
              "      <td>Puramate</td>\n",
              "      <td>67.50</td>\n",
              "      <td>75.0</td>\n",
              "      <td>Herbs, Seasonings &amp; Rubs</td>\n",
              "      <td>4.0</td>\n",
              "      <td>Puramate rosemary is enough to transform a dis...</td>\n",
              "    </tr>\n",
              "    <tr>\n",
              "      <th>27552</th>\n",
              "      <td>Peri-Peri Sweet Potato Chips</td>\n",
              "      <td>Gourmet &amp; World Food</td>\n",
              "      <td>Snacks, Dry Fruits, Nuts</td>\n",
              "      <td>FabBox</td>\n",
              "      <td>200.00</td>\n",
              "      <td>200.0</td>\n",
              "      <td>Nachos &amp; Chips</td>\n",
              "      <td>3.8</td>\n",
              "      <td>We have taken the richness of Sweet Potatoes (...</td>\n",
              "    </tr>\n",
              "    <tr>\n",
              "      <th>27553</th>\n",
              "      <td>Green Tea - Pure Original</td>\n",
              "      <td>Beverages</td>\n",
              "      <td>Tea</td>\n",
              "      <td>Tetley</td>\n",
              "      <td>396.00</td>\n",
              "      <td>495.0</td>\n",
              "      <td>Tea Bags</td>\n",
              "      <td>4.2</td>\n",
              "      <td>Tetley Green Tea with its refreshing pure, ori...</td>\n",
              "    </tr>\n",
              "    <tr>\n",
              "      <th>27554</th>\n",
              "      <td>United Dreams Go Far Deodorant</td>\n",
              "      <td>Beauty &amp; Hygiene</td>\n",
              "      <td>Men's Grooming</td>\n",
              "      <td>United Colors Of Benetton</td>\n",
              "      <td>214.53</td>\n",
              "      <td>390.0</td>\n",
              "      <td>Men's Deodorants</td>\n",
              "      <td>4.5</td>\n",
              "      <td>The new mens fragrance from the United Dreams ...</td>\n",
              "    </tr>\n",
              "  </tbody>\n",
              "</table>\n",
              "<p>27555 rows × 9 columns</p>\n",
              "</div>\n",
              "      <button class=\"colab-df-convert\" onclick=\"convertToInteractive('df-78ed4647-c553-4622-b8df-e128a0fd2629')\"\n",
              "              title=\"Convert this dataframe to an interactive table.\"\n",
              "              style=\"display:none;\">\n",
              "        \n",
              "  <svg xmlns=\"http://www.w3.org/2000/svg\" height=\"24px\"viewBox=\"0 0 24 24\"\n",
              "       width=\"24px\">\n",
              "    <path d=\"M0 0h24v24H0V0z\" fill=\"none\"/>\n",
              "    <path d=\"M18.56 5.44l.94 2.06.94-2.06 2.06-.94-2.06-.94-.94-2.06-.94 2.06-2.06.94zm-11 1L8.5 8.5l.94-2.06 2.06-.94-2.06-.94L8.5 2.5l-.94 2.06-2.06.94zm10 10l.94 2.06.94-2.06 2.06-.94-2.06-.94-.94-2.06-.94 2.06-2.06.94z\"/><path d=\"M17.41 7.96l-1.37-1.37c-.4-.4-.92-.59-1.43-.59-.52 0-1.04.2-1.43.59L10.3 9.45l-7.72 7.72c-.78.78-.78 2.05 0 2.83L4 21.41c.39.39.9.59 1.41.59.51 0 1.02-.2 1.41-.59l7.78-7.78 2.81-2.81c.8-.78.8-2.07 0-2.86zM5.41 20L4 18.59l7.72-7.72 1.47 1.35L5.41 20z\"/>\n",
              "  </svg>\n",
              "      </button>\n",
              "      \n",
              "  <style>\n",
              "    .colab-df-container {\n",
              "      display:flex;\n",
              "      flex-wrap:wrap;\n",
              "      gap: 12px;\n",
              "    }\n",
              "\n",
              "    .colab-df-convert {\n",
              "      background-color: #E8F0FE;\n",
              "      border: none;\n",
              "      border-radius: 50%;\n",
              "      cursor: pointer;\n",
              "      display: none;\n",
              "      fill: #1967D2;\n",
              "      height: 32px;\n",
              "      padding: 0 0 0 0;\n",
              "      width: 32px;\n",
              "    }\n",
              "\n",
              "    .colab-df-convert:hover {\n",
              "      background-color: #E2EBFA;\n",
              "      box-shadow: 0px 1px 2px rgba(60, 64, 67, 0.3), 0px 1px 3px 1px rgba(60, 64, 67, 0.15);\n",
              "      fill: #174EA6;\n",
              "    }\n",
              "\n",
              "    [theme=dark] .colab-df-convert {\n",
              "      background-color: #3B4455;\n",
              "      fill: #D2E3FC;\n",
              "    }\n",
              "\n",
              "    [theme=dark] .colab-df-convert:hover {\n",
              "      background-color: #434B5C;\n",
              "      box-shadow: 0px 1px 3px 1px rgba(0, 0, 0, 0.15);\n",
              "      filter: drop-shadow(0px 1px 2px rgba(0, 0, 0, 0.3));\n",
              "      fill: #FFFFFF;\n",
              "    }\n",
              "  </style>\n",
              "\n",
              "      <script>\n",
              "        const buttonEl =\n",
              "          document.querySelector('#df-78ed4647-c553-4622-b8df-e128a0fd2629 button.colab-df-convert');\n",
              "        buttonEl.style.display =\n",
              "          google.colab.kernel.accessAllowed ? 'block' : 'none';\n",
              "\n",
              "        async function convertToInteractive(key) {\n",
              "          const element = document.querySelector('#df-78ed4647-c553-4622-b8df-e128a0fd2629');\n",
              "          const dataTable =\n",
              "            await google.colab.kernel.invokeFunction('convertToInteractive',\n",
              "                                                     [key], {});\n",
              "          if (!dataTable) return;\n",
              "\n",
              "          const docLinkHtml = 'Like what you see? Visit the ' +\n",
              "            '<a target=\"_blank\" href=https://colab.research.google.com/notebooks/data_table.ipynb>data table notebook</a>'\n",
              "            + ' to learn more about interactive tables.';\n",
              "          element.innerHTML = '';\n",
              "          dataTable['output_type'] = 'display_data';\n",
              "          await google.colab.output.renderOutput(dataTable, element);\n",
              "          const docLink = document.createElement('div');\n",
              "          docLink.innerHTML = docLinkHtml;\n",
              "          element.appendChild(docLink);\n",
              "        }\n",
              "      </script>\n",
              "    </div>\n",
              "  </div>\n",
              "  "
            ]
          },
          "metadata": {},
          "execution_count": 43
        }
      ]
    },
    {
      "cell_type": "code",
      "source": [
        "df.info()"
      ],
      "metadata": {
        "colab": {
          "base_uri": "https://localhost:8080/"
        },
        "id": "vEHWhR5m7W4J",
        "outputId": "22c81ffb-99ab-4c5e-cd4a-896068b721ee"
      },
      "execution_count": null,
      "outputs": [
        {
          "output_type": "stream",
          "name": "stdout",
          "text": [
            "<class 'pandas.core.frame.DataFrame'>\n",
            "RangeIndex: 27555 entries, 0 to 27554\n",
            "Data columns (total 9 columns):\n",
            " #   Column        Non-Null Count  Dtype  \n",
            "---  ------        --------------  -----  \n",
            " 0   product       27554 non-null  object \n",
            " 1   category      27555 non-null  object \n",
            " 2   sub_category  27555 non-null  object \n",
            " 3   brand         27554 non-null  object \n",
            " 4   sale_price    27555 non-null  float64\n",
            " 5   market_price  27555 non-null  float64\n",
            " 6   type          27555 non-null  object \n",
            " 7   rating        18929 non-null  float64\n",
            " 8   description   27440 non-null  object \n",
            "dtypes: float64(3), object(6)\n",
            "memory usage: 1.9+ MB\n"
          ]
        }
      ]
    },
    {
      "cell_type": "code",
      "source": [
        "df.shape"
      ],
      "metadata": {
        "colab": {
          "base_uri": "https://localhost:8080/"
        },
        "id": "JOX1Mq2LGqXk",
        "outputId": "907e9136-4e50-4f85-efc2-96a4b146b70d"
      },
      "execution_count": null,
      "outputs": [
        {
          "output_type": "execute_result",
          "data": {
            "text/plain": [
              "(27555, 9)"
            ]
          },
          "metadata": {},
          "execution_count": 26
        }
      ]
    },
    {
      "cell_type": "code",
      "source": [
        "df.size"
      ],
      "metadata": {
        "colab": {
          "base_uri": "https://localhost:8080/"
        },
        "id": "xcSFwYbL7gIs",
        "outputId": "e140c947-470d-4c30-f6f4-775e64c1a46d"
      },
      "execution_count": null,
      "outputs": [
        {
          "output_type": "execute_result",
          "data": {
            "text/plain": [
              "247995"
            ]
          },
          "metadata": {},
          "execution_count": 27
        }
      ]
    },
    {
      "cell_type": "code",
      "source": [
        "df.columns"
      ],
      "metadata": {
        "colab": {
          "base_uri": "https://localhost:8080/"
        },
        "id": "kB9ZX8-pGxFR",
        "outputId": "112f3c29-5cd4-4e77-9cfe-0711f99dd76c"
      },
      "execution_count": null,
      "outputs": [
        {
          "output_type": "execute_result",
          "data": {
            "text/plain": [
              "Index(['product', 'category', 'sub_category', 'brand', 'sale_price',\n",
              "       'market_price', 'type', 'rating', 'description'],\n",
              "      dtype='object')"
            ]
          },
          "metadata": {},
          "execution_count": 47
        }
      ]
    },
    {
      "cell_type": "code",
      "source": [
        "df.isnull().sum()"
      ],
      "metadata": {
        "colab": {
          "base_uri": "https://localhost:8080/"
        },
        "id": "lsSk-V9WLnSi",
        "outputId": "5face6a8-c9a4-4685-ef7c-db79a78b7695"
      },
      "execution_count": null,
      "outputs": [
        {
          "output_type": "execute_result",
          "data": {
            "text/plain": [
              "product            1\n",
              "category           0\n",
              "sub_category       0\n",
              "brand              1\n",
              "sale_price         0\n",
              "market_price       0\n",
              "type               0\n",
              "rating          8626\n",
              "description      115\n",
              "dtype: int64"
            ]
          },
          "metadata": {},
          "execution_count": 48
        }
      ]
    },
    {
      "cell_type": "code",
      "source": [
        "df.nunique() "
      ],
      "metadata": {
        "colab": {
          "base_uri": "https://localhost:8080/"
        },
        "id": "_7HycwXDWvoh",
        "outputId": "5716f4a9-02ff-4d9e-e2f5-8ded6e83eeda"
      },
      "execution_count": null,
      "outputs": [
        {
          "output_type": "execute_result",
          "data": {
            "text/plain": [
              "product         23540\n",
              "category           11\n",
              "sub_category       90\n",
              "brand            2313\n",
              "sale_price       3256\n",
              "market_price     1348\n",
              "type              426\n",
              "rating             40\n",
              "description     21944\n",
              "dtype: int64"
            ]
          },
          "metadata": {},
          "execution_count": 89
        }
      ]
    },
    {
      "cell_type": "code",
      "source": [
        "df.head()"
      ],
      "metadata": {
        "colab": {
          "base_uri": "https://localhost:8080/",
          "height": 354
        },
        "id": "giqoGtaEW-Ey",
        "outputId": "a3694475-1160-43dc-be97-4cc8d6f8e547"
      },
      "execution_count": null,
      "outputs": [
        {
          "output_type": "execute_result",
          "data": {
            "text/plain": [
              "                                             product                category  \\\n",
              "0             Garlic Oil - Vegetarian Capsule 500 mg        Beauty & Hygiene   \n",
              "1                              Water Bottle - Orange  Kitchen, Garden & Pets   \n",
              "2                     Brass Angle Deep - Plain, No.2    Cleaning & Household   \n",
              "3  Cereal Flip Lid Container/Storage Jar - Assort...    Cleaning & Household   \n",
              "4                 Creme Soft Soap - For Hands & Body        Beauty & Hygiene   \n",
              "\n",
              "            sub_category              brand  sale_price  market_price  \\\n",
              "0              Hair Care  Sri Sri Ayurveda        220.0         220.0   \n",
              "1  Storage & Accessories         Mastercook       180.0         180.0   \n",
              "2            Pooja Needs                Trm       119.0         250.0   \n",
              "3   Bins & Bathroom Ware             Nakoda       149.0         176.0   \n",
              "4       Bath & Hand Wash              Nivea       162.0         162.0   \n",
              "\n",
              "                       type  rating  \\\n",
              "0          Hair Oil & Serum     4.1   \n",
              "1    Water & Fridge Bottles     2.3   \n",
              "2           Lamp & Lamp Oil     3.4   \n",
              "3  Laundry, Storage Baskets     3.7   \n",
              "4      Bathing Bars & Soaps     4.4   \n",
              "\n",
              "                                         description  \n",
              "0  This Product contains Garlic Oil that is known...  \n",
              "1  Each product is microwave safe (without lid), ...  \n",
              "2  A perfect gift for all occasions, be it your m...  \n",
              "3  Multipurpose container with an attractive desi...  \n",
              "4  Nivea Creme Soft Soap gives your skin the best...  "
            ],
            "text/html": [
              "\n",
              "  <div id=\"df-4108e730-b28e-4f23-905d-728f08ae25af\">\n",
              "    <div class=\"colab-df-container\">\n",
              "      <div>\n",
              "<style scoped>\n",
              "    .dataframe tbody tr th:only-of-type {\n",
              "        vertical-align: middle;\n",
              "    }\n",
              "\n",
              "    .dataframe tbody tr th {\n",
              "        vertical-align: top;\n",
              "    }\n",
              "\n",
              "    .dataframe thead th {\n",
              "        text-align: right;\n",
              "    }\n",
              "</style>\n",
              "<table border=\"1\" class=\"dataframe\">\n",
              "  <thead>\n",
              "    <tr style=\"text-align: right;\">\n",
              "      <th></th>\n",
              "      <th>product</th>\n",
              "      <th>category</th>\n",
              "      <th>sub_category</th>\n",
              "      <th>brand</th>\n",
              "      <th>sale_price</th>\n",
              "      <th>market_price</th>\n",
              "      <th>type</th>\n",
              "      <th>rating</th>\n",
              "      <th>description</th>\n",
              "    </tr>\n",
              "  </thead>\n",
              "  <tbody>\n",
              "    <tr>\n",
              "      <th>0</th>\n",
              "      <td>Garlic Oil - Vegetarian Capsule 500 mg</td>\n",
              "      <td>Beauty &amp; Hygiene</td>\n",
              "      <td>Hair Care</td>\n",
              "      <td>Sri Sri Ayurveda</td>\n",
              "      <td>220.0</td>\n",
              "      <td>220.0</td>\n",
              "      <td>Hair Oil &amp; Serum</td>\n",
              "      <td>4.1</td>\n",
              "      <td>This Product contains Garlic Oil that is known...</td>\n",
              "    </tr>\n",
              "    <tr>\n",
              "      <th>1</th>\n",
              "      <td>Water Bottle - Orange</td>\n",
              "      <td>Kitchen, Garden &amp; Pets</td>\n",
              "      <td>Storage &amp; Accessories</td>\n",
              "      <td>Mastercook</td>\n",
              "      <td>180.0</td>\n",
              "      <td>180.0</td>\n",
              "      <td>Water &amp; Fridge Bottles</td>\n",
              "      <td>2.3</td>\n",
              "      <td>Each product is microwave safe (without lid), ...</td>\n",
              "    </tr>\n",
              "    <tr>\n",
              "      <th>2</th>\n",
              "      <td>Brass Angle Deep - Plain, No.2</td>\n",
              "      <td>Cleaning &amp; Household</td>\n",
              "      <td>Pooja Needs</td>\n",
              "      <td>Trm</td>\n",
              "      <td>119.0</td>\n",
              "      <td>250.0</td>\n",
              "      <td>Lamp &amp; Lamp Oil</td>\n",
              "      <td>3.4</td>\n",
              "      <td>A perfect gift for all occasions, be it your m...</td>\n",
              "    </tr>\n",
              "    <tr>\n",
              "      <th>3</th>\n",
              "      <td>Cereal Flip Lid Container/Storage Jar - Assort...</td>\n",
              "      <td>Cleaning &amp; Household</td>\n",
              "      <td>Bins &amp; Bathroom Ware</td>\n",
              "      <td>Nakoda</td>\n",
              "      <td>149.0</td>\n",
              "      <td>176.0</td>\n",
              "      <td>Laundry, Storage Baskets</td>\n",
              "      <td>3.7</td>\n",
              "      <td>Multipurpose container with an attractive desi...</td>\n",
              "    </tr>\n",
              "    <tr>\n",
              "      <th>4</th>\n",
              "      <td>Creme Soft Soap - For Hands &amp; Body</td>\n",
              "      <td>Beauty &amp; Hygiene</td>\n",
              "      <td>Bath &amp; Hand Wash</td>\n",
              "      <td>Nivea</td>\n",
              "      <td>162.0</td>\n",
              "      <td>162.0</td>\n",
              "      <td>Bathing Bars &amp; Soaps</td>\n",
              "      <td>4.4</td>\n",
              "      <td>Nivea Creme Soft Soap gives your skin the best...</td>\n",
              "    </tr>\n",
              "  </tbody>\n",
              "</table>\n",
              "</div>\n",
              "      <button class=\"colab-df-convert\" onclick=\"convertToInteractive('df-4108e730-b28e-4f23-905d-728f08ae25af')\"\n",
              "              title=\"Convert this dataframe to an interactive table.\"\n",
              "              style=\"display:none;\">\n",
              "        \n",
              "  <svg xmlns=\"http://www.w3.org/2000/svg\" height=\"24px\"viewBox=\"0 0 24 24\"\n",
              "       width=\"24px\">\n",
              "    <path d=\"M0 0h24v24H0V0z\" fill=\"none\"/>\n",
              "    <path d=\"M18.56 5.44l.94 2.06.94-2.06 2.06-.94-2.06-.94-.94-2.06-.94 2.06-2.06.94zm-11 1L8.5 8.5l.94-2.06 2.06-.94-2.06-.94L8.5 2.5l-.94 2.06-2.06.94zm10 10l.94 2.06.94-2.06 2.06-.94-2.06-.94-.94-2.06-.94 2.06-2.06.94z\"/><path d=\"M17.41 7.96l-1.37-1.37c-.4-.4-.92-.59-1.43-.59-.52 0-1.04.2-1.43.59L10.3 9.45l-7.72 7.72c-.78.78-.78 2.05 0 2.83L4 21.41c.39.39.9.59 1.41.59.51 0 1.02-.2 1.41-.59l7.78-7.78 2.81-2.81c.8-.78.8-2.07 0-2.86zM5.41 20L4 18.59l7.72-7.72 1.47 1.35L5.41 20z\"/>\n",
              "  </svg>\n",
              "      </button>\n",
              "      \n",
              "  <style>\n",
              "    .colab-df-container {\n",
              "      display:flex;\n",
              "      flex-wrap:wrap;\n",
              "      gap: 12px;\n",
              "    }\n",
              "\n",
              "    .colab-df-convert {\n",
              "      background-color: #E8F0FE;\n",
              "      border: none;\n",
              "      border-radius: 50%;\n",
              "      cursor: pointer;\n",
              "      display: none;\n",
              "      fill: #1967D2;\n",
              "      height: 32px;\n",
              "      padding: 0 0 0 0;\n",
              "      width: 32px;\n",
              "    }\n",
              "\n",
              "    .colab-df-convert:hover {\n",
              "      background-color: #E2EBFA;\n",
              "      box-shadow: 0px 1px 2px rgba(60, 64, 67, 0.3), 0px 1px 3px 1px rgba(60, 64, 67, 0.15);\n",
              "      fill: #174EA6;\n",
              "    }\n",
              "\n",
              "    [theme=dark] .colab-df-convert {\n",
              "      background-color: #3B4455;\n",
              "      fill: #D2E3FC;\n",
              "    }\n",
              "\n",
              "    [theme=dark] .colab-df-convert:hover {\n",
              "      background-color: #434B5C;\n",
              "      box-shadow: 0px 1px 3px 1px rgba(0, 0, 0, 0.15);\n",
              "      filter: drop-shadow(0px 1px 2px rgba(0, 0, 0, 0.3));\n",
              "      fill: #FFFFFF;\n",
              "    }\n",
              "  </style>\n",
              "\n",
              "      <script>\n",
              "        const buttonEl =\n",
              "          document.querySelector('#df-4108e730-b28e-4f23-905d-728f08ae25af button.colab-df-convert');\n",
              "        buttonEl.style.display =\n",
              "          google.colab.kernel.accessAllowed ? 'block' : 'none';\n",
              "\n",
              "        async function convertToInteractive(key) {\n",
              "          const element = document.querySelector('#df-4108e730-b28e-4f23-905d-728f08ae25af');\n",
              "          const dataTable =\n",
              "            await google.colab.kernel.invokeFunction('convertToInteractive',\n",
              "                                                     [key], {});\n",
              "          if (!dataTable) return;\n",
              "\n",
              "          const docLinkHtml = 'Like what you see? Visit the ' +\n",
              "            '<a target=\"_blank\" href=https://colab.research.google.com/notebooks/data_table.ipynb>data table notebook</a>'\n",
              "            + ' to learn more about interactive tables.';\n",
              "          element.innerHTML = '';\n",
              "          dataTable['output_type'] = 'display_data';\n",
              "          await google.colab.output.renderOutput(dataTable, element);\n",
              "          const docLink = document.createElement('div');\n",
              "          docLink.innerHTML = docLinkHtml;\n",
              "          element.appendChild(docLink);\n",
              "        }\n",
              "      </script>\n",
              "    </div>\n",
              "  </div>\n",
              "  "
            ]
          },
          "metadata": {},
          "execution_count": 91
        }
      ]
    },
    {
      "cell_type": "code",
      "source": [
        "df.tail()"
      ],
      "metadata": {
        "colab": {
          "base_uri": "https://localhost:8080/",
          "height": 372
        },
        "id": "RH9GsQDjXHmk",
        "outputId": "0f8f45d9-1a65-4410-8a1f-797cefc8ecd0"
      },
      "execution_count": null,
      "outputs": [
        {
          "output_type": "execute_result",
          "data": {
            "text/plain": [
              "                                          product              category  \\\n",
              "27550  Wottagirl! Perfume Spray - Heaven, Classic      Beauty & Hygiene   \n",
              "27551                                    Rosemary  Gourmet & World Food   \n",
              "27552                Peri-Peri Sweet Potato Chips  Gourmet & World Food   \n",
              "27553                   Green Tea - Pure Original             Beverages   \n",
              "27554              United Dreams Go Far Deodorant      Beauty & Hygiene   \n",
              "\n",
              "                   sub_category                       brand  sale_price  \\\n",
              "27550         Fragrances & Deos                      Layerr      199.20   \n",
              "27551    Cooking & Baking Needs                    Puramate       67.50   \n",
              "27552  Snacks, Dry Fruits, Nuts                      FabBox      200.00   \n",
              "27553                       Tea                      Tetley      396.00   \n",
              "27554            Men's Grooming  United Colors Of Benetton       214.53   \n",
              "\n",
              "       market_price                      type  rating  \\\n",
              "27550         249.0                   Perfume     3.9   \n",
              "27551          75.0  Herbs, Seasonings & Rubs     4.0   \n",
              "27552         200.0            Nachos & Chips     3.8   \n",
              "27553         495.0                  Tea Bags     4.2   \n",
              "27554         390.0          Men's Deodorants     4.5   \n",
              "\n",
              "                                             description  \n",
              "27550  Layerr brings you Wottagirl Classic fragrant b...  \n",
              "27551  Puramate rosemary is enough to transform a dis...  \n",
              "27552  We have taken the richness of Sweet Potatoes (...  \n",
              "27553  Tetley Green Tea with its refreshing pure, ori...  \n",
              "27554  The new mens fragrance from the United Dreams ...  "
            ],
            "text/html": [
              "\n",
              "  <div id=\"df-3f45b8c0-c79b-43ff-ad57-8b72e0b94f9e\">\n",
              "    <div class=\"colab-df-container\">\n",
              "      <div>\n",
              "<style scoped>\n",
              "    .dataframe tbody tr th:only-of-type {\n",
              "        vertical-align: middle;\n",
              "    }\n",
              "\n",
              "    .dataframe tbody tr th {\n",
              "        vertical-align: top;\n",
              "    }\n",
              "\n",
              "    .dataframe thead th {\n",
              "        text-align: right;\n",
              "    }\n",
              "</style>\n",
              "<table border=\"1\" class=\"dataframe\">\n",
              "  <thead>\n",
              "    <tr style=\"text-align: right;\">\n",
              "      <th></th>\n",
              "      <th>product</th>\n",
              "      <th>category</th>\n",
              "      <th>sub_category</th>\n",
              "      <th>brand</th>\n",
              "      <th>sale_price</th>\n",
              "      <th>market_price</th>\n",
              "      <th>type</th>\n",
              "      <th>rating</th>\n",
              "      <th>description</th>\n",
              "    </tr>\n",
              "  </thead>\n",
              "  <tbody>\n",
              "    <tr>\n",
              "      <th>27550</th>\n",
              "      <td>Wottagirl! Perfume Spray - Heaven, Classic</td>\n",
              "      <td>Beauty &amp; Hygiene</td>\n",
              "      <td>Fragrances &amp; Deos</td>\n",
              "      <td>Layerr</td>\n",
              "      <td>199.20</td>\n",
              "      <td>249.0</td>\n",
              "      <td>Perfume</td>\n",
              "      <td>3.9</td>\n",
              "      <td>Layerr brings you Wottagirl Classic fragrant b...</td>\n",
              "    </tr>\n",
              "    <tr>\n",
              "      <th>27551</th>\n",
              "      <td>Rosemary</td>\n",
              "      <td>Gourmet &amp; World Food</td>\n",
              "      <td>Cooking &amp; Baking Needs</td>\n",
              "      <td>Puramate</td>\n",
              "      <td>67.50</td>\n",
              "      <td>75.0</td>\n",
              "      <td>Herbs, Seasonings &amp; Rubs</td>\n",
              "      <td>4.0</td>\n",
              "      <td>Puramate rosemary is enough to transform a dis...</td>\n",
              "    </tr>\n",
              "    <tr>\n",
              "      <th>27552</th>\n",
              "      <td>Peri-Peri Sweet Potato Chips</td>\n",
              "      <td>Gourmet &amp; World Food</td>\n",
              "      <td>Snacks, Dry Fruits, Nuts</td>\n",
              "      <td>FabBox</td>\n",
              "      <td>200.00</td>\n",
              "      <td>200.0</td>\n",
              "      <td>Nachos &amp; Chips</td>\n",
              "      <td>3.8</td>\n",
              "      <td>We have taken the richness of Sweet Potatoes (...</td>\n",
              "    </tr>\n",
              "    <tr>\n",
              "      <th>27553</th>\n",
              "      <td>Green Tea - Pure Original</td>\n",
              "      <td>Beverages</td>\n",
              "      <td>Tea</td>\n",
              "      <td>Tetley</td>\n",
              "      <td>396.00</td>\n",
              "      <td>495.0</td>\n",
              "      <td>Tea Bags</td>\n",
              "      <td>4.2</td>\n",
              "      <td>Tetley Green Tea with its refreshing pure, ori...</td>\n",
              "    </tr>\n",
              "    <tr>\n",
              "      <th>27554</th>\n",
              "      <td>United Dreams Go Far Deodorant</td>\n",
              "      <td>Beauty &amp; Hygiene</td>\n",
              "      <td>Men's Grooming</td>\n",
              "      <td>United Colors Of Benetton</td>\n",
              "      <td>214.53</td>\n",
              "      <td>390.0</td>\n",
              "      <td>Men's Deodorants</td>\n",
              "      <td>4.5</td>\n",
              "      <td>The new mens fragrance from the United Dreams ...</td>\n",
              "    </tr>\n",
              "  </tbody>\n",
              "</table>\n",
              "</div>\n",
              "      <button class=\"colab-df-convert\" onclick=\"convertToInteractive('df-3f45b8c0-c79b-43ff-ad57-8b72e0b94f9e')\"\n",
              "              title=\"Convert this dataframe to an interactive table.\"\n",
              "              style=\"display:none;\">\n",
              "        \n",
              "  <svg xmlns=\"http://www.w3.org/2000/svg\" height=\"24px\"viewBox=\"0 0 24 24\"\n",
              "       width=\"24px\">\n",
              "    <path d=\"M0 0h24v24H0V0z\" fill=\"none\"/>\n",
              "    <path d=\"M18.56 5.44l.94 2.06.94-2.06 2.06-.94-2.06-.94-.94-2.06-.94 2.06-2.06.94zm-11 1L8.5 8.5l.94-2.06 2.06-.94-2.06-.94L8.5 2.5l-.94 2.06-2.06.94zm10 10l.94 2.06.94-2.06 2.06-.94-2.06-.94-.94-2.06-.94 2.06-2.06.94z\"/><path d=\"M17.41 7.96l-1.37-1.37c-.4-.4-.92-.59-1.43-.59-.52 0-1.04.2-1.43.59L10.3 9.45l-7.72 7.72c-.78.78-.78 2.05 0 2.83L4 21.41c.39.39.9.59 1.41.59.51 0 1.02-.2 1.41-.59l7.78-7.78 2.81-2.81c.8-.78.8-2.07 0-2.86zM5.41 20L4 18.59l7.72-7.72 1.47 1.35L5.41 20z\"/>\n",
              "  </svg>\n",
              "      </button>\n",
              "      \n",
              "  <style>\n",
              "    .colab-df-container {\n",
              "      display:flex;\n",
              "      flex-wrap:wrap;\n",
              "      gap: 12px;\n",
              "    }\n",
              "\n",
              "    .colab-df-convert {\n",
              "      background-color: #E8F0FE;\n",
              "      border: none;\n",
              "      border-radius: 50%;\n",
              "      cursor: pointer;\n",
              "      display: none;\n",
              "      fill: #1967D2;\n",
              "      height: 32px;\n",
              "      padding: 0 0 0 0;\n",
              "      width: 32px;\n",
              "    }\n",
              "\n",
              "    .colab-df-convert:hover {\n",
              "      background-color: #E2EBFA;\n",
              "      box-shadow: 0px 1px 2px rgba(60, 64, 67, 0.3), 0px 1px 3px 1px rgba(60, 64, 67, 0.15);\n",
              "      fill: #174EA6;\n",
              "    }\n",
              "\n",
              "    [theme=dark] .colab-df-convert {\n",
              "      background-color: #3B4455;\n",
              "      fill: #D2E3FC;\n",
              "    }\n",
              "\n",
              "    [theme=dark] .colab-df-convert:hover {\n",
              "      background-color: #434B5C;\n",
              "      box-shadow: 0px 1px 3px 1px rgba(0, 0, 0, 0.15);\n",
              "      filter: drop-shadow(0px 1px 2px rgba(0, 0, 0, 0.3));\n",
              "      fill: #FFFFFF;\n",
              "    }\n",
              "  </style>\n",
              "\n",
              "      <script>\n",
              "        const buttonEl =\n",
              "          document.querySelector('#df-3f45b8c0-c79b-43ff-ad57-8b72e0b94f9e button.colab-df-convert');\n",
              "        buttonEl.style.display =\n",
              "          google.colab.kernel.accessAllowed ? 'block' : 'none';\n",
              "\n",
              "        async function convertToInteractive(key) {\n",
              "          const element = document.querySelector('#df-3f45b8c0-c79b-43ff-ad57-8b72e0b94f9e');\n",
              "          const dataTable =\n",
              "            await google.colab.kernel.invokeFunction('convertToInteractive',\n",
              "                                                     [key], {});\n",
              "          if (!dataTable) return;\n",
              "\n",
              "          const docLinkHtml = 'Like what you see? Visit the ' +\n",
              "            '<a target=\"_blank\" href=https://colab.research.google.com/notebooks/data_table.ipynb>data table notebook</a>'\n",
              "            + ' to learn more about interactive tables.';\n",
              "          element.innerHTML = '';\n",
              "          dataTable['output_type'] = 'display_data';\n",
              "          await google.colab.output.renderOutput(dataTable, element);\n",
              "          const docLink = document.createElement('div');\n",
              "          docLink.innerHTML = docLinkHtml;\n",
              "          element.appendChild(docLink);\n",
              "        }\n",
              "      </script>\n",
              "    </div>\n",
              "  </div>\n",
              "  "
            ]
          },
          "metadata": {},
          "execution_count": 92
        }
      ]
    },
    {
      "cell_type": "code",
      "source": [
        "df.describe()"
      ],
      "metadata": {
        "colab": {
          "base_uri": "https://localhost:8080/",
          "height": 300
        },
        "id": "apFSdHAKG4IP",
        "outputId": "4f7c8888-953a-4d18-bf8b-b44e72c8f9a5"
      },
      "execution_count": null,
      "outputs": [
        {
          "output_type": "execute_result",
          "data": {
            "text/plain": [
              "         sale_price  market_price        rating\n",
              "count  27555.000000  27555.000000  18929.000000\n",
              "mean     322.514808    382.056664      3.943410\n",
              "std      486.263116    581.730717      0.739063\n",
              "min        2.450000      3.000000      1.000000\n",
              "25%       95.000000    100.000000      3.700000\n",
              "50%      190.000000    220.000000      4.100000\n",
              "75%      359.000000    425.000000      4.300000\n",
              "max    12500.000000  12500.000000      5.000000"
            ],
            "text/html": [
              "\n",
              "  <div id=\"df-a991deb8-e6c0-4c4f-8be1-3ce4bcaba4b6\">\n",
              "    <div class=\"colab-df-container\">\n",
              "      <div>\n",
              "<style scoped>\n",
              "    .dataframe tbody tr th:only-of-type {\n",
              "        vertical-align: middle;\n",
              "    }\n",
              "\n",
              "    .dataframe tbody tr th {\n",
              "        vertical-align: top;\n",
              "    }\n",
              "\n",
              "    .dataframe thead th {\n",
              "        text-align: right;\n",
              "    }\n",
              "</style>\n",
              "<table border=\"1\" class=\"dataframe\">\n",
              "  <thead>\n",
              "    <tr style=\"text-align: right;\">\n",
              "      <th></th>\n",
              "      <th>sale_price</th>\n",
              "      <th>market_price</th>\n",
              "      <th>rating</th>\n",
              "    </tr>\n",
              "  </thead>\n",
              "  <tbody>\n",
              "    <tr>\n",
              "      <th>count</th>\n",
              "      <td>27555.000000</td>\n",
              "      <td>27555.000000</td>\n",
              "      <td>18929.000000</td>\n",
              "    </tr>\n",
              "    <tr>\n",
              "      <th>mean</th>\n",
              "      <td>322.514808</td>\n",
              "      <td>382.056664</td>\n",
              "      <td>3.943410</td>\n",
              "    </tr>\n",
              "    <tr>\n",
              "      <th>std</th>\n",
              "      <td>486.263116</td>\n",
              "      <td>581.730717</td>\n",
              "      <td>0.739063</td>\n",
              "    </tr>\n",
              "    <tr>\n",
              "      <th>min</th>\n",
              "      <td>2.450000</td>\n",
              "      <td>3.000000</td>\n",
              "      <td>1.000000</td>\n",
              "    </tr>\n",
              "    <tr>\n",
              "      <th>25%</th>\n",
              "      <td>95.000000</td>\n",
              "      <td>100.000000</td>\n",
              "      <td>3.700000</td>\n",
              "    </tr>\n",
              "    <tr>\n",
              "      <th>50%</th>\n",
              "      <td>190.000000</td>\n",
              "      <td>220.000000</td>\n",
              "      <td>4.100000</td>\n",
              "    </tr>\n",
              "    <tr>\n",
              "      <th>75%</th>\n",
              "      <td>359.000000</td>\n",
              "      <td>425.000000</td>\n",
              "      <td>4.300000</td>\n",
              "    </tr>\n",
              "    <tr>\n",
              "      <th>max</th>\n",
              "      <td>12500.000000</td>\n",
              "      <td>12500.000000</td>\n",
              "      <td>5.000000</td>\n",
              "    </tr>\n",
              "  </tbody>\n",
              "</table>\n",
              "</div>\n",
              "      <button class=\"colab-df-convert\" onclick=\"convertToInteractive('df-a991deb8-e6c0-4c4f-8be1-3ce4bcaba4b6')\"\n",
              "              title=\"Convert this dataframe to an interactive table.\"\n",
              "              style=\"display:none;\">\n",
              "        \n",
              "  <svg xmlns=\"http://www.w3.org/2000/svg\" height=\"24px\"viewBox=\"0 0 24 24\"\n",
              "       width=\"24px\">\n",
              "    <path d=\"M0 0h24v24H0V0z\" fill=\"none\"/>\n",
              "    <path d=\"M18.56 5.44l.94 2.06.94-2.06 2.06-.94-2.06-.94-.94-2.06-.94 2.06-2.06.94zm-11 1L8.5 8.5l.94-2.06 2.06-.94-2.06-.94L8.5 2.5l-.94 2.06-2.06.94zm10 10l.94 2.06.94-2.06 2.06-.94-2.06-.94-.94-2.06-.94 2.06-2.06.94z\"/><path d=\"M17.41 7.96l-1.37-1.37c-.4-.4-.92-.59-1.43-.59-.52 0-1.04.2-1.43.59L10.3 9.45l-7.72 7.72c-.78.78-.78 2.05 0 2.83L4 21.41c.39.39.9.59 1.41.59.51 0 1.02-.2 1.41-.59l7.78-7.78 2.81-2.81c.8-.78.8-2.07 0-2.86zM5.41 20L4 18.59l7.72-7.72 1.47 1.35L5.41 20z\"/>\n",
              "  </svg>\n",
              "      </button>\n",
              "      \n",
              "  <style>\n",
              "    .colab-df-container {\n",
              "      display:flex;\n",
              "      flex-wrap:wrap;\n",
              "      gap: 12px;\n",
              "    }\n",
              "\n",
              "    .colab-df-convert {\n",
              "      background-color: #E8F0FE;\n",
              "      border: none;\n",
              "      border-radius: 50%;\n",
              "      cursor: pointer;\n",
              "      display: none;\n",
              "      fill: #1967D2;\n",
              "      height: 32px;\n",
              "      padding: 0 0 0 0;\n",
              "      width: 32px;\n",
              "    }\n",
              "\n",
              "    .colab-df-convert:hover {\n",
              "      background-color: #E2EBFA;\n",
              "      box-shadow: 0px 1px 2px rgba(60, 64, 67, 0.3), 0px 1px 3px 1px rgba(60, 64, 67, 0.15);\n",
              "      fill: #174EA6;\n",
              "    }\n",
              "\n",
              "    [theme=dark] .colab-df-convert {\n",
              "      background-color: #3B4455;\n",
              "      fill: #D2E3FC;\n",
              "    }\n",
              "\n",
              "    [theme=dark] .colab-df-convert:hover {\n",
              "      background-color: #434B5C;\n",
              "      box-shadow: 0px 1px 3px 1px rgba(0, 0, 0, 0.15);\n",
              "      filter: drop-shadow(0px 1px 2px rgba(0, 0, 0, 0.3));\n",
              "      fill: #FFFFFF;\n",
              "    }\n",
              "  </style>\n",
              "\n",
              "      <script>\n",
              "        const buttonEl =\n",
              "          document.querySelector('#df-a991deb8-e6c0-4c4f-8be1-3ce4bcaba4b6 button.colab-df-convert');\n",
              "        buttonEl.style.display =\n",
              "          google.colab.kernel.accessAllowed ? 'block' : 'none';\n",
              "\n",
              "        async function convertToInteractive(key) {\n",
              "          const element = document.querySelector('#df-a991deb8-e6c0-4c4f-8be1-3ce4bcaba4b6');\n",
              "          const dataTable =\n",
              "            await google.colab.kernel.invokeFunction('convertToInteractive',\n",
              "                                                     [key], {});\n",
              "          if (!dataTable) return;\n",
              "\n",
              "          const docLinkHtml = 'Like what you see? Visit the ' +\n",
              "            '<a target=\"_blank\" href=https://colab.research.google.com/notebooks/data_table.ipynb>data table notebook</a>'\n",
              "            + ' to learn more about interactive tables.';\n",
              "          element.innerHTML = '';\n",
              "          dataTable['output_type'] = 'display_data';\n",
              "          await google.colab.output.renderOutput(dataTable, element);\n",
              "          const docLink = document.createElement('div');\n",
              "          docLink.innerHTML = docLinkHtml;\n",
              "          element.appendChild(docLink);\n",
              "        }\n",
              "      </script>\n",
              "    </div>\n",
              "  </div>\n",
              "  "
            ]
          },
          "metadata": {},
          "execution_count": 45
        }
      ]
    },
    {
      "cell_type": "code",
      "source": [
        "df.nunique()"
      ],
      "metadata": {
        "colab": {
          "base_uri": "https://localhost:8080/"
        },
        "id": "dzoVNuzEG_Rc",
        "outputId": "40e24f7a-0041-4331-dde7-2053d7c13635"
      },
      "execution_count": null,
      "outputs": [
        {
          "output_type": "execute_result",
          "data": {
            "text/plain": [
              "product         23540\n",
              "category           11\n",
              "sub_category       90\n",
              "brand            2313\n",
              "sale_price       3256\n",
              "market_price     1348\n",
              "type              426\n",
              "rating             40\n",
              "description     21944\n",
              "dtype: int64"
            ]
          },
          "metadata": {},
          "execution_count": 30
        }
      ]
    },
    {
      "cell_type": "code",
      "source": [
        "import seaborn as sns\n",
        "plt.figure(figsize=(20,12))\n",
        "sns.countplot(x='category',data=df)"
      ],
      "metadata": {
        "colab": {
          "base_uri": "https://localhost:8080/",
          "height": 721
        },
        "id": "n3W_adpKILjg",
        "outputId": "f82bed3c-34c0-46f8-f4f3-e49455dd9280"
      },
      "execution_count": null,
      "outputs": [
        {
          "output_type": "execute_result",
          "data": {
            "text/plain": [
              "<matplotlib.axes._subplots.AxesSubplot at 0x7f86d2ecea90>"
            ]
          },
          "metadata": {},
          "execution_count": 67
        },
        {
          "output_type": "display_data",
          "data": {
            "text/plain": [
              "<Figure size 1440x864 with 1 Axes>"
            ],
            "image/png": "[encoded data removed]"
          },
          "metadata": {
            "needs_background": "light"
          }
        }
      ]
    },
    {
      "cell_type": "code",
      "source": [
        "plt.figure(figsize=(20,7))\n",
        "sns.countplot(x='sale_price',data=df)"
      ],
      "metadata": {
        "colab": {
          "base_uri": "https://localhost:8080/",
          "height": 449
        },
        "id": "XbRiSCgVIiDv",
        "outputId": "61920ecc-ba29-40a0-8ea3-a6d3c55ecd1c"
      },
      "execution_count": null,
      "outputs": [
        {
          "output_type": "execute_result",
          "data": {
            "text/plain": [
              "<matplotlib.axes._subplots.AxesSubplot at 0x7f86d2e90510>"
            ]
          },
          "metadata": {},
          "execution_count": 68
        },
        {
          "output_type": "display_data",
          "data": {
            "text/plain": [
              "<Figure size 1440x504 with 1 Axes>"
            ],
            "image/png": "[encoded data removed]"
          },
          "metadata": {
            "needs_background": "light"
          }
        }
      ]
    },
    {
      "cell_type": "code",
      "source": [
        "df['category'].value_counts().plot(kind = 'bar')"
      ],
      "metadata": {
        "colab": {
          "base_uri": "https://localhost:8080/",
          "height": 396
        },
        "id": "hXHycOhAM7P9",
        "outputId": "5d83693b-0d1c-4734-f786-cf2eef94729a"
      },
      "execution_count": null,
      "outputs": [
        {
          "output_type": "execute_result",
          "data": {
            "text/plain": [
              "<matplotlib.axes._subplots.AxesSubplot at 0x7f86de8a4090>"
            ]
          },
          "metadata": {},
          "execution_count": 50
        },
        {
          "output_type": "display_data",
          "data": {
            "text/plain": [
              "<Figure size 432x288 with 1 Axes>"
            ],
            "image/png": "[encoded data removed]"
          },
          "metadata": {
            "needs_background": "light"
          }
        }
      ]
    },
    {
      "cell_type": "code",
      "source": [
        "\n",
        "import matplotlib.pyplot as plt\n",
        "sns.barplot(x=df['category'],y = df['rating'])\n",
        "plt.xticks(rotation = 'vertical')\n"
      ],
      "metadata": {
        "colab": {
          "base_uri": "https://localhost:8080/",
          "height": 428
        },
        "id": "egc5JR3HNeK7",
        "outputId": "0901ad80-e074-48b4-aa24-cffa6bd36022"
      },
      "execution_count": null,
      "outputs": [
        {
          "output_type": "execute_result",
          "data": {
            "text/plain": [
              "(array([ 0,  1,  2,  3,  4,  5,  6,  7,  8,  9, 10]),\n",
              " <a list of 11 Text major ticklabel objects>)"
            ]
          },
          "metadata": {},
          "execution_count": 52
        },
        {
          "output_type": "display_data",
          "data": {
            "text/plain": [
              "<Figure size 432x288 with 1 Axes>"
            ],
            "image/png": "[encoded data removed]"
          },
          "metadata": {
            "needs_background": "light"
          }
        }
      ]
    },
    {
      "cell_type": "code",
      "source": [
        "import matplotlib.pyplot as plt\n",
        "sns.barplot(x=df['category'],y = df['sale_price'])\n",
        "plt.xticks(rotation = 'vertical')"
      ],
      "metadata": {
        "colab": {
          "base_uri": "https://localhost:8080/",
          "height": 430
        },
        "id": "j4Jo9GBPOLL4",
        "outputId": "fc0716cc-8171-407e-ee10-098e815f7dfa"
      },
      "execution_count": null,
      "outputs": [
        {
          "output_type": "execute_result",
          "data": {
            "text/plain": [
              "(array([ 0,  1,  2,  3,  4,  5,  6,  7,  8,  9, 10]),\n",
              " <a list of 11 Text major ticklabel objects>)"
            ]
          },
          "metadata": {},
          "execution_count": 53
        },
        {
          "output_type": "display_data",
          "data": {
            "text/plain": [
              "<Figure size 432x288 with 1 Axes>"
            ],
            "image/png": "[encoded data removed]"
          },
          "metadata": {
            "needs_background": "light"
          }
        }
      ]
    },
    {
      "cell_type": "code",
      "source": [
        "\n",
        "sns.displot(df['rating'])"
      ],
      "metadata": {
        "colab": {
          "base_uri": "https://localhost:8080/",
          "height": 386
        },
        "id": "jv9lDYnYOljV",
        "outputId": "1135d2a0-2c9d-4181-edd0-efc461f04367"
      },
      "execution_count": null,
      "outputs": [
        {
          "output_type": "execute_result",
          "data": {
            "text/plain": [
              "<seaborn.axisgrid.FacetGrid at 0x7f86d26c7550>"
            ]
          },
          "metadata": {},
          "execution_count": 72
        },
        {
          "output_type": "display_data",
          "data": {
            "text/plain": [
              "<Figure size 360x360 with 1 Axes>"
            ],
            "image/png": "[encoded data removed]"
          },
          "metadata": {
            "needs_background": "light"
          }
        }
      ]
    },
    {
      "cell_type": "code",
      "source": [
        "plt.figure(figsize=(100,9))\n",
        "sns.displot(df['brand'])"
      ],
      "metadata": {
        "colab": {
          "base_uri": "https://localhost:8080/",
          "height": 404
        },
        "id": "ube-SAuLOy7K",
        "outputId": "64c63269-5ce6-4e0b-c156-5ec086ee0b3d"
      },
      "execution_count": null,
      "outputs": [
        {
          "output_type": "execute_result",
          "data": {
            "text/plain": [
              "<seaborn.axisgrid.FacetGrid at 0x7f86b00d1b10>"
            ]
          },
          "metadata": {},
          "execution_count": 80
        },
        {
          "output_type": "display_data",
          "data": {
            "text/plain": [
              "<Figure size 7200x648 with 0 Axes>"
            ]
          },
          "metadata": {}
        },
        {
          "output_type": "display_data",
          "data": {
            "text/plain": [
              "<Figure size 360x360 with 1 Axes>"
            ],
            "image/png": "[encoded data removed]"
          },
          "metadata": {
            "needs_background": "light"
          }
        }
      ]
    },
    {
      "cell_type": "code",
      "source": [
        "plt.figure(figsize=(20,7))\n",
        "df['rating'].value_counts().plot(kind = 'bar')"
      ],
      "metadata": {
        "colab": {
          "base_uri": "https://localhost:8080/",
          "height": 450
        },
        "id": "PVyNuJWDQ2SK",
        "outputId": "c6367c0c-d01f-4960-e197-1de8f3a13572"
      },
      "execution_count": null,
      "outputs": [
        {
          "output_type": "execute_result",
          "data": {
            "text/plain": [
              "<matplotlib.axes._subplots.AxesSubplot at 0x7f86a6dc9210>"
            ]
          },
          "metadata": {},
          "execution_count": 81
        },
        {
          "output_type": "display_data",
          "data": {
            "text/plain": [
              "<Figure size 1440x504 with 1 Axes>"
            ],
            "image/png": "[encoded data removed]"
          },
          "metadata": {
            "needs_background": "light"
          }
        }
      ]
    },
    {
      "cell_type": "code",
      "source": [
        "sns.heatmap(df.corr())"
      ],
      "metadata": {
        "colab": {
          "base_uri": "https://localhost:8080/",
          "height": 287
        },
        "id": "MVxZvgXnU_IR",
        "outputId": "46a7ed4c-fd51-4cba-9acb-1712995a4a8c"
      },
      "execution_count": null,
      "outputs": [
        {
          "output_type": "execute_result",
          "data": {
            "text/plain": [
              "<matplotlib.axes._subplots.AxesSubplot at 0x7f86a4fe6810>"
            ]
          },
          "metadata": {},
          "execution_count": 83
        },
        {
          "output_type": "display_data",
          "data": {
            "text/plain": [
              "<Figure size 432x288 with 2 Axes>"
            ],
            "image/png": "[encoded data removed]"
          },
          "metadata": {
            "needs_background": "light"
          }
        }
      ]
    },
    {
      "cell_type": "code",
      "source": [
        "df.corr()"
      ],
      "metadata": {
        "colab": {
          "base_uri": "https://localhost:8080/",
          "height": 143
        },
        "id": "E7cKq43nWM77",
        "outputId": "33f60af8-332b-4aaa-9c96-e94d9d25d5c7"
      },
      "execution_count": null,
      "outputs": [
        {
          "output_type": "execute_result",
          "data": {
            "text/plain": [
              "              sale_price  market_price    rating\n",
              "sale_price      1.000000      0.965198 -0.079285\n",
              "market_price    0.965198      1.000000 -0.094989\n",
              "rating         -0.079285     -0.094989  1.000000"
            ],
            "text/html": [
              "\n",
              "  <div id=\"df-fde8f7f5-00d6-4ff3-9c35-02042af27343\">\n",
              "    <div class=\"colab-df-container\">\n",
              "      <div>\n",
              "<style scoped>\n",
              "    .dataframe tbody tr th:only-of-type {\n",
              "        vertical-align: middle;\n",
              "    }\n",
              "\n",
              "    .dataframe tbody tr th {\n",
              "        vertical-align: top;\n",
              "    }\n",
              "\n",
              "    .dataframe thead th {\n",
              "        text-align: right;\n",
              "    }\n",
              "</style>\n",
              "<table border=\"1\" class=\"dataframe\">\n",
              "  <thead>\n",
              "    <tr style=\"text-align: right;\">\n",
              "      <th></th>\n",
              "      <th>sale_price</th>\n",
              "      <th>market_price</th>\n",
              "      <th>rating</th>\n",
              "    </tr>\n",
              "  </thead>\n",
              "  <tbody>\n",
              "    <tr>\n",
              "      <th>sale_price</th>\n",
              "      <td>1.000000</td>\n",
              "      <td>0.965198</td>\n",
              "      <td>-0.079285</td>\n",
              "    </tr>\n",
              "    <tr>\n",
              "      <th>market_price</th>\n",
              "      <td>0.965198</td>\n",
              "      <td>1.000000</td>\n",
              "      <td>-0.094989</td>\n",
              "    </tr>\n",
              "    <tr>\n",
              "      <th>rating</th>\n",
              "      <td>-0.079285</td>\n",
              "      <td>-0.094989</td>\n",
              "      <td>1.000000</td>\n",
              "    </tr>\n",
              "  </tbody>\n",
              "</table>\n",
              "</div>\n",
              "      <button class=\"colab-df-convert\" onclick=\"convertToInteractive('df-fde8f7f5-00d6-4ff3-9c35-02042af27343')\"\n",
              "              title=\"Convert this dataframe to an interactive table.\"\n",
              "              style=\"display:none;\">\n",
              "        \n",
              "  <svg xmlns=\"http://www.w3.org/2000/svg\" height=\"24px\"viewBox=\"0 0 24 24\"\n",
              "       width=\"24px\">\n",
              "    <path d=\"M0 0h24v24H0V0z\" fill=\"none\"/>\n",
              "    <path d=\"M18.56 5.44l.94 2.06.94-2.06 2.06-.94-2.06-.94-.94-2.06-.94 2.06-2.06.94zm-11 1L8.5 8.5l.94-2.06 2.06-.94-2.06-.94L8.5 2.5l-.94 2.06-2.06.94zm10 10l.94 2.06.94-2.06 2.06-.94-2.06-.94-.94-2.06-.94 2.06-2.06.94z\"/><path d=\"M17.41 7.96l-1.37-1.37c-.4-.4-.92-.59-1.43-.59-.52 0-1.04.2-1.43.59L10.3 9.45l-7.72 7.72c-.78.78-.78 2.05 0 2.83L4 21.41c.39.39.9.59 1.41.59.51 0 1.02-.2 1.41-.59l7.78-7.78 2.81-2.81c.8-.78.8-2.07 0-2.86zM5.41 20L4 18.59l7.72-7.72 1.47 1.35L5.41 20z\"/>\n",
              "  </svg>\n",
              "      </button>\n",
              "      \n",
              "  <style>\n",
              "    .colab-df-container {\n",
              "      display:flex;\n",
              "      flex-wrap:wrap;\n",
              "      gap: 12px;\n",
              "    }\n",
              "\n",
              "    .colab-df-convert {\n",
              "      background-color: #E8F0FE;\n",
              "      border: none;\n",
              "      border-radius: 50%;\n",
              "      cursor: pointer;\n",
              "      display: none;\n",
              "      fill: #1967D2;\n",
              "      height: 32px;\n",
              "      padding: 0 0 0 0;\n",
              "      width: 32px;\n",
              "    }\n",
              "\n",
              "    .colab-df-convert:hover {\n",
              "      background-color: #E2EBFA;\n",
              "      box-shadow: 0px 1px 2px rgba(60, 64, 67, 0.3), 0px 1px 3px 1px rgba(60, 64, 67, 0.15);\n",
              "      fill: #174EA6;\n",
              "    }\n",
              "\n",
              "    [theme=dark] .colab-df-convert {\n",
              "      background-color: #3B4455;\n",
              "      fill: #D2E3FC;\n",
              "    }\n",
              "\n",
              "    [theme=dark] .colab-df-convert:hover {\n",
              "      background-color: #434B5C;\n",
              "      box-shadow: 0px 1px 3px 1px rgba(0, 0, 0, 0.15);\n",
              "      filter: drop-shadow(0px 1px 2px rgba(0, 0, 0, 0.3));\n",
              "      fill: #FFFFFF;\n",
              "    }\n",
              "  </style>\n",
              "\n",
              "      <script>\n",
              "        const buttonEl =\n",
              "          document.querySelector('#df-fde8f7f5-00d6-4ff3-9c35-02042af27343 button.colab-df-convert');\n",
              "        buttonEl.style.display =\n",
              "          google.colab.kernel.accessAllowed ? 'block' : 'none';\n",
              "\n",
              "        async function convertToInteractive(key) {\n",
              "          const element = document.querySelector('#df-fde8f7f5-00d6-4ff3-9c35-02042af27343');\n",
              "          const dataTable =\n",
              "            await google.colab.kernel.invokeFunction('convertToInteractive',\n",
              "                                                     [key], {});\n",
              "          if (!dataTable) return;\n",
              "\n",
              "          const docLinkHtml = 'Like what you see? Visit the ' +\n",
              "            '<a target=\"_blank\" href=https://colab.research.google.com/notebooks/data_table.ipynb>data table notebook</a>'\n",
              "            + ' to learn more about interactive tables.';\n",
              "          element.innerHTML = '';\n",
              "          dataTable['output_type'] = 'display_data';\n",
              "          await google.colab.output.renderOutput(dataTable, element);\n",
              "          const docLink = document.createElement('div');\n",
              "          docLink.innerHTML = docLinkHtml;\n",
              "          element.appendChild(docLink);\n",
              "        }\n",
              "      </script>\n",
              "    </div>\n",
              "  </div>\n",
              "  "
            ]
          },
          "metadata": {},
          "execution_count": 87
        }
      ]
    },
    {
      "cell_type": "code",
      "source": [
        "sns.pairplot(df)"
      ],
      "metadata": {
        "colab": {
          "base_uri": "https://localhost:8080/",
          "height": 567
        },
        "id": "UNMR-VFcWY4q",
        "outputId": "40dba79d-6106-4e0c-f4ef-f7307cb7508c"
      },
      "execution_count": null,
      "outputs": [
        {
          "output_type": "execute_result",
          "data": {
            "text/plain": [
              "<seaborn.axisgrid.PairGrid at 0x7f86a33af450>"
            ]
          },
          "metadata": {},
          "execution_count": 88
        },
        {
          "output_type": "display_data",
          "data": {
            "text/plain": [
              "<Figure size 540x540 with 12 Axes>"
            ],
            "image/png": "[encoded data removed]"
          },
          "metadata": {
            "needs_background": "light"
          }
        }
      ]
    }
  ]
}