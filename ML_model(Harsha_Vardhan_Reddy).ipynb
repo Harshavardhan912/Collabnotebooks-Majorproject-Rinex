{
  "nbformat": 4,
  "nbformat_minor": 0,
  "metadata": {
    "colab": {
      "name": "ML model(Harsha Vardhan Reddy).ipynb",
      "provenance": [],
      "authorship_tag": "ABX9TyMEikj8OW8gOi2kgQPwrlrp",
      "include_colab_link": true
    },
    "kernelspec": {
      "name": "python3",
      "display_name": "Python 3"
    },
    "language_info": {
      "name": "python"
    }
  },
  "cells": [
    {
      "cell_type": "markdown",
      "metadata": {
        "id": "view-in-github",
        "colab_type": "text"
      },
      "source": [
        "<a href=\"https://colab.research.google.com/github/Harshavardhan912/Collabnotebooks-Majorproject-Rinex/blob/main/ML_model(Harsha_Vardhan_Reddy).ipynb\" target=\"_parent\"><img src=\"https://colab.research.google.com/assets/colab-badge.svg\" alt=\"Open In Colab\"/></a>"
      ]
    },
    {
      "cell_type": "code",
      "source": [
        "import pandas as pd\n",
        "df = pd.read_csv('https://raw.githubusercontent.com/diazoniclabs/Machine-Learning-using-sklearn/master/Datasets/news.csv')\n",
        "df"
      ],
      "metadata": {
        "colab": {
          "base_uri": "https://localhost:8080/",
          "height": 1000
        },
        "id": "CkhwVTnRl7fI",
        "outputId": "77916304-fb22-4204-ffc1-474d5d9a7571"
      },
      "execution_count": null,
      "outputs": [
        {
          "output_type": "execute_result",
          "data": {
            "text/plain": [
              "                                        news_headline  \\\n",
              "0   I'm a sucker for underdog stories, talking to ...   \n",
              "1   Bolta hoon bhai: Rajasthan Royals to fan reque...   \n",
              "2   Why are KXIP players wearing black armbands in...   \n",
              "3   IPL 2020 points table is getting interesting: ...   \n",
              "4   How many Indian cricketers have hit 100 sixes ...   \n",
              "5   Sandeep becomes 6th Indian pacer to take 100 I...   \n",
              "6   Who is Varun Chakravarthy, ex-architect who re...   \n",
              "7   Why did KKR's Rana flaunt jersey with 'Surinde...   \n",
              "8   KKR hand DC their 2nd loss in a row as Varun r...   \n",
              "9   Hats off for turning up: Sachin on Rana, Mande...   \n",
              "10  KXIP take last 6 wickets in 13 balls to defend...   \n",
              "11  Tanmay, who top-scored in 2008 U-19 WC which I...   \n",
              "12  Dhoni would be a lot more hurt as youngsters l...   \n",
              "13  Padikkal hasn't got Hayden's chest but definit...   \n",
              "14  CSK's Imran Tahir gives Riyan Parag leg-spin l...   \n",
              "15  Happy to be back and performing: Narine on 64(...   \n",
              "16  Almost perfect performance, lucky to have Bumr...   \n",
              "17  Finally, RCB bowling unit has earned captain V...   \n",
              "18  Glad it's happening at this point of time: Iye...   \n",
              "19  Gave Bumrah the new ball to counter Rayudu: MI...   \n",
              "20  Want to ensure India-China standoff doesn't es...   \n",
              "21  It's not how you talk about friends: Biden on ...   \n",
              "22  Nepal PM uses old map without Indian territory...   \n",
              "23  Monitoring Ladakh standoff, sharing info with ...   \n",
              "24  I voted for a guy named Trump: US Prez Trump c...   \n",
              "25  Just hair, bones: Officials as 7 decomposed bo...   \n",
              "26  US warns of Listeria outbreak linked to deli m...   \n",
              "27  Pakistani man born without arms masters playin...   \n",
              "28  What is yellow dust, which North Korea warned ...   \n",
              "29  In many ways it's good, in many ways foolish: ...   \n",
              "30  Senior al-Qaeda leader al-Masri who was on FBI...   \n",
              "31  Trump's dangerous rhetoric fuelled hate crimes...   \n",
              "32  State institute imports COVID-19 vaccine rejec...   \n",
              "33  US reports its biggest rise in daily COVID-19 ...   \n",
              "34  Asia becomes 2nd region in world to cross 1 cr...   \n",
              "35  Poland President Andrzej Duda tests positive f...   \n",
              "36  We may not recognise HK residents' British ove...   \n",
              "37  Release of Fukushima's water into sea can dama...   \n",
              "38  Will talk to UK PM to get Nawaz Sharif deporte...   \n",
              "39  No justification for Uighur concentration camp...   \n",
              "40  Former Maharashtra CM Devendra Fadnavis tests ...   \n",
              "41  Farooq to be Prez, Mufti Vice-Prez of People's...   \n",
              "42  Janta Dal Rashtravadi Party's candidate shot d...   \n",
              "43  If you have ED, I have CD: Eknath Khadse after...   \n",
              "44  President Kovind, Prime Minister Modi greet na...   \n",
              "45  J&K leaders sometimes more dangerous than sepa...   \n",
              "46  Conspiracies of 'Gupkar gang' will not be tole...   \n",
              "47  Those who promoted jungle raj are talking of d...   \n",
              "48  We have to light a lamp at home in honour of s...   \n",
              "49  Include sanitation workers, domestic helps, gu...   \n",
              "50  Why no Hathras-like picnic over Punjab rape: S...   \n",
              "51  None of the Gandhis visited rape victim's fami...   \n",
              "52  PM Modi pays tribute to former PM Indira Gandh...   \n",
              "53  Mufti must be arrested for seditious remarks o...   \n",
              "54  Rajnath Singh performs 'Shastra Puja' with Ind...   \n",
              "55  COVID-19 vaccine should be free throughout the...   \n",
              "56  Make COVID-19 vaccine free in K'taka too: Sidd...   \n",
              "57  Delhi CM Kejriwal inaugurates flyovers at Seel...   \n",
              "58  Delhi court issues bailable warrant against Ka...   \n",
              "59  Lalu ji to be released on Nov 9, Nitish's fare...   \n",
              "\n",
              "                                         news_article news_category  \n",
              "0   Talking about KKR spinner Varun Chakravarthy, ...        sports  \n",
              "1   A fan took to Twitter to request Rajasthan Roy...        sports  \n",
              "2   Kings XI Punjab cricketers are wearing black a...        sports  \n",
              "3   After KXIP took SRH's last six wickets in 13 b...        sports  \n",
              "4   DC's Rishabh Pant today became the 14th Indian...        sports  \n",
              "5   SRH pacer Sandeep Sharma on Saturday became th...        sports  \n",
              "6   KKR spinner Varun Chakravarthy was born on Aug...        sports  \n",
              "7   Kolkata Knight Riders batsman Nitish Rana flau...        sports  \n",
              "8   KKR defeated DC by 59 runs in Abu Dhabi on Sat...        sports  \n",
              "9   Former India batsman Sachin Tendulkar lauded K...        sports  \n",
              "10  Kings XI Punjab defeated SunRisers Hyderabad b...        sports  \n",
              "11  Tanmay Srivastava, who top-scored in 2008 Unde...        sports  \n",
              "12  Talking about CSK's 10-wicket defeat against M...        sports  \n",
              "13  Talking about RCB batsman Devdutt Padikkal, te...        sports  \n",
              "14  After the match between CSK and RR on Monday, ...        sports  \n",
              "15  KKR spinner Sunil Narine on Saturday returned ...        sports  \n",
              "16  Talking about their bowling against CSK on Fri...        sports  \n",
              "17  Former New Zealand all-rounder Scott Styris sa...        sports  \n",
              "18  After KKR defeated DC by 59 runs on Saturday, ...        sports  \n",
              "19  MI's stand-in-captain Kieron Pollard said he m...        sports  \n",
              "20  Trump administration officials said the US is ...         world  \n",
              "21  After US President Donald Trump said, \"Look at...         world  \n",
              "22  As India and Nepal try to mend ties after the ...         world  \n",
              "23  The United States is monitoring the India-Chin...         world  \n",
              "24  US President Donald Trump has cast his ballot ...         world  \n",
              "25  Paraguay authorities have found at least seven...         world  \n",
              "26  US' health protection agency CDC has warned ab...         world  \n",
              "27  A 32-year-old Pakistani man, Muhammad Ikram, w...         world  \n",
              "28  North Korea warned its citizens to remain indo...         world  \n",
              "29  During a rally in North Carolina on Saturday, ...         world  \n",
              "30  Afghanistan's National Directorate of Security...         world  \n",
              "31  In an op-ed for India West, Democratic Preside...         world  \n",
              "32  A day after Brazilian President Jair Bolsonaro...         world  \n",
              "33  The US has recorded its biggest one-day rise i...         world  \n",
              "34  Asia became the second region in the world to ...         world  \n",
              "35  Polish President Andrzej Duda has tested posit...         world  \n",
              "36  China said that it may not recognise British-i...         world  \n",
              "37  The release of Fukushima nuclear plant's conta...         world  \n",
              "38  Pakistan PM Imran Khan said that his governmen...         world  \n",
              "39  Talking about China's treatment of Uighur Musl...         world  \n",
              "40  BJP leader and former Maharashtra CM Devendra ...      politics  \n",
              "41  National Conference leader Farooq Abdullah wil...      politics  \n",
              "42  Narayan Singh, Janta Dal Rashtravadi Party's c...      politics  \n",
              "43  After quitting Bharatiya Janata Party (BJP) to...      politics  \n",
              "44  President Ram Nath Kovind and PM Narendra Modi...      politics  \n",
              "45  Union Minister of State (MoS) Jitendra Singh c...      politics  \n",
              "46  J&K BJP chief Ravinder Raina on Saturday said ...      politics  \n",
              "47  Bihar CM Nitish Kumar on Saturday, in an appar...      politics  \n",
              "48  Prime Minister Narendra Modi on Sunday address...      politics  \n",
              "49  Prime Minister Narendra Modi addressed the nat...      politics  \n",
              "50  Union Finance Minister Nirmala Sitharaman on S...      politics  \n",
              "51  After the half-burnt body of a six-year-old gi...      politics  \n",
              "52  Prime Minister Narendra Modi on Sunday remembe...      politics  \n",
              "53  The J&K BJP has criticised former CM Mehbooba ...      politics  \n",
              "54  Defence Minister Rajnath Singh on Sunday perfo...      politics  \n",
              "55  Delhi CM Arvind Kejriwal on Saturday said the ...      politics  \n",
              "56  Opposition leader Siddaramaiah said that the K...      politics  \n",
              "57  Delhi CM Arvind Kejriwal on Saturday inaugurat...      politics  \n",
              "58  A Delhi court has issued a bailable warrant ag...      politics  \n",
              "59  Rashtriya Janata Dal (RJD) leader Tejashwi Yad...      politics  "
            ],
            "text/html": [
              "\n",
              "  <div id=\"df-a280c8b2-72b5-4e3f-9116-894c917894b2\">\n",
              "    <div class=\"colab-df-container\">\n",
              "      <div>\n",
              "<style scoped>\n",
              "    .dataframe tbody tr th:only-of-type {\n",
              "        vertical-align: middle;\n",
              "    }\n",
              "\n",
              "    .dataframe tbody tr th {\n",
              "        vertical-align: top;\n",
              "    }\n",
              "\n",
              "    .dataframe thead th {\n",
              "        text-align: right;\n",
              "    }\n",
              "</style>\n",
              "<table border=\"1\" class=\"dataframe\">\n",
              "  <thead>\n",
              "    <tr style=\"text-align: right;\">\n",
              "      <th></th>\n",
              "      <th>news_headline</th>\n",
              "      <th>news_article</th>\n",
              "      <th>news_category</th>\n",
              "    </tr>\n",
              "  </thead>\n",
              "  <tbody>\n",
              "    <tr>\n",
              "      <th>0</th>\n",
              "      <td>I'm a sucker for underdog stories, talking to ...</td>\n",
              "      <td>Talking about KKR spinner Varun Chakravarthy, ...</td>\n",
              "      <td>sports</td>\n",
              "    </tr>\n",
              "    <tr>\n",
              "      <th>1</th>\n",
              "      <td>Bolta hoon bhai: Rajasthan Royals to fan reque...</td>\n",
              "      <td>A fan took to Twitter to request Rajasthan Roy...</td>\n",
              "      <td>sports</td>\n",
              "    </tr>\n",
              "    <tr>\n",
              "      <th>2</th>\n",
              "      <td>Why are KXIP players wearing black armbands in...</td>\n",
              "      <td>Kings XI Punjab cricketers are wearing black a...</td>\n",
              "      <td>sports</td>\n",
              "    </tr>\n",
              "    <tr>\n",
              "      <th>3</th>\n",
              "      <td>IPL 2020 points table is getting interesting: ...</td>\n",
              "      <td>After KXIP took SRH's last six wickets in 13 b...</td>\n",
              "      <td>sports</td>\n",
              "    </tr>\n",
              "    <tr>\n",
              "      <th>4</th>\n",
              "      <td>How many Indian cricketers have hit 100 sixes ...</td>\n",
              "      <td>DC's Rishabh Pant today became the 14th Indian...</td>\n",
              "      <td>sports</td>\n",
              "    </tr>\n",
              "    <tr>\n",
              "      <th>5</th>\n",
              "      <td>Sandeep becomes 6th Indian pacer to take 100 I...</td>\n",
              "      <td>SRH pacer Sandeep Sharma on Saturday became th...</td>\n",
              "      <td>sports</td>\n",
              "    </tr>\n",
              "    <tr>\n",
              "      <th>6</th>\n",
              "      <td>Who is Varun Chakravarthy, ex-architect who re...</td>\n",
              "      <td>KKR spinner Varun Chakravarthy was born on Aug...</td>\n",
              "      <td>sports</td>\n",
              "    </tr>\n",
              "    <tr>\n",
              "      <th>7</th>\n",
              "      <td>Why did KKR's Rana flaunt jersey with 'Surinde...</td>\n",
              "      <td>Kolkata Knight Riders batsman Nitish Rana flau...</td>\n",
              "      <td>sports</td>\n",
              "    </tr>\n",
              "    <tr>\n",
              "      <th>8</th>\n",
              "      <td>KKR hand DC their 2nd loss in a row as Varun r...</td>\n",
              "      <td>KKR defeated DC by 59 runs in Abu Dhabi on Sat...</td>\n",
              "      <td>sports</td>\n",
              "    </tr>\n",
              "    <tr>\n",
              "      <th>9</th>\n",
              "      <td>Hats off for turning up: Sachin on Rana, Mande...</td>\n",
              "      <td>Former India batsman Sachin Tendulkar lauded K...</td>\n",
              "      <td>sports</td>\n",
              "    </tr>\n",
              "    <tr>\n",
              "      <th>10</th>\n",
              "      <td>KXIP take last 6 wickets in 13 balls to defend...</td>\n",
              "      <td>Kings XI Punjab defeated SunRisers Hyderabad b...</td>\n",
              "      <td>sports</td>\n",
              "    </tr>\n",
              "    <tr>\n",
              "      <th>11</th>\n",
              "      <td>Tanmay, who top-scored in 2008 U-19 WC which I...</td>\n",
              "      <td>Tanmay Srivastava, who top-scored in 2008 Unde...</td>\n",
              "      <td>sports</td>\n",
              "    </tr>\n",
              "    <tr>\n",
              "      <th>12</th>\n",
              "      <td>Dhoni would be a lot more hurt as youngsters l...</td>\n",
              "      <td>Talking about CSK's 10-wicket defeat against M...</td>\n",
              "      <td>sports</td>\n",
              "    </tr>\n",
              "    <tr>\n",
              "      <th>13</th>\n",
              "      <td>Padikkal hasn't got Hayden's chest but definit...</td>\n",
              "      <td>Talking about RCB batsman Devdutt Padikkal, te...</td>\n",
              "      <td>sports</td>\n",
              "    </tr>\n",
              "    <tr>\n",
              "      <th>14</th>\n",
              "      <td>CSK's Imran Tahir gives Riyan Parag leg-spin l...</td>\n",
              "      <td>After the match between CSK and RR on Monday, ...</td>\n",
              "      <td>sports</td>\n",
              "    </tr>\n",
              "    <tr>\n",
              "      <th>15</th>\n",
              "      <td>Happy to be back and performing: Narine on 64(...</td>\n",
              "      <td>KKR spinner Sunil Narine on Saturday returned ...</td>\n",
              "      <td>sports</td>\n",
              "    </tr>\n",
              "    <tr>\n",
              "      <th>16</th>\n",
              "      <td>Almost perfect performance, lucky to have Bumr...</td>\n",
              "      <td>Talking about their bowling against CSK on Fri...</td>\n",
              "      <td>sports</td>\n",
              "    </tr>\n",
              "    <tr>\n",
              "      <th>17</th>\n",
              "      <td>Finally, RCB bowling unit has earned captain V...</td>\n",
              "      <td>Former New Zealand all-rounder Scott Styris sa...</td>\n",
              "      <td>sports</td>\n",
              "    </tr>\n",
              "    <tr>\n",
              "      <th>18</th>\n",
              "      <td>Glad it's happening at this point of time: Iye...</td>\n",
              "      <td>After KKR defeated DC by 59 runs on Saturday, ...</td>\n",
              "      <td>sports</td>\n",
              "    </tr>\n",
              "    <tr>\n",
              "      <th>19</th>\n",
              "      <td>Gave Bumrah the new ball to counter Rayudu: MI...</td>\n",
              "      <td>MI's stand-in-captain Kieron Pollard said he m...</td>\n",
              "      <td>sports</td>\n",
              "    </tr>\n",
              "    <tr>\n",
              "      <th>20</th>\n",
              "      <td>Want to ensure India-China standoff doesn't es...</td>\n",
              "      <td>Trump administration officials said the US is ...</td>\n",
              "      <td>world</td>\n",
              "    </tr>\n",
              "    <tr>\n",
              "      <th>21</th>\n",
              "      <td>It's not how you talk about friends: Biden on ...</td>\n",
              "      <td>After US President Donald Trump said, \"Look at...</td>\n",
              "      <td>world</td>\n",
              "    </tr>\n",
              "    <tr>\n",
              "      <th>22</th>\n",
              "      <td>Nepal PM uses old map without Indian territory...</td>\n",
              "      <td>As India and Nepal try to mend ties after the ...</td>\n",
              "      <td>world</td>\n",
              "    </tr>\n",
              "    <tr>\n",
              "      <th>23</th>\n",
              "      <td>Monitoring Ladakh standoff, sharing info with ...</td>\n",
              "      <td>The United States is monitoring the India-Chin...</td>\n",
              "      <td>world</td>\n",
              "    </tr>\n",
              "    <tr>\n",
              "      <th>24</th>\n",
              "      <td>I voted for a guy named Trump: US Prez Trump c...</td>\n",
              "      <td>US President Donald Trump has cast his ballot ...</td>\n",
              "      <td>world</td>\n",
              "    </tr>\n",
              "    <tr>\n",
              "      <th>25</th>\n",
              "      <td>Just hair, bones: Officials as 7 decomposed bo...</td>\n",
              "      <td>Paraguay authorities have found at least seven...</td>\n",
              "      <td>world</td>\n",
              "    </tr>\n",
              "    <tr>\n",
              "      <th>26</th>\n",
              "      <td>US warns of Listeria outbreak linked to deli m...</td>\n",
              "      <td>US' health protection agency CDC has warned ab...</td>\n",
              "      <td>world</td>\n",
              "    </tr>\n",
              "    <tr>\n",
              "      <th>27</th>\n",
              "      <td>Pakistani man born without arms masters playin...</td>\n",
              "      <td>A 32-year-old Pakistani man, Muhammad Ikram, w...</td>\n",
              "      <td>world</td>\n",
              "    </tr>\n",
              "    <tr>\n",
              "      <th>28</th>\n",
              "      <td>What is yellow dust, which North Korea warned ...</td>\n",
              "      <td>North Korea warned its citizens to remain indo...</td>\n",
              "      <td>world</td>\n",
              "    </tr>\n",
              "    <tr>\n",
              "      <th>29</th>\n",
              "      <td>In many ways it's good, in many ways foolish: ...</td>\n",
              "      <td>During a rally in North Carolina on Saturday, ...</td>\n",
              "      <td>world</td>\n",
              "    </tr>\n",
              "    <tr>\n",
              "      <th>30</th>\n",
              "      <td>Senior al-Qaeda leader al-Masri who was on FBI...</td>\n",
              "      <td>Afghanistan's National Directorate of Security...</td>\n",
              "      <td>world</td>\n",
              "    </tr>\n",
              "    <tr>\n",
              "      <th>31</th>\n",
              "      <td>Trump's dangerous rhetoric fuelled hate crimes...</td>\n",
              "      <td>In an op-ed for India West, Democratic Preside...</td>\n",
              "      <td>world</td>\n",
              "    </tr>\n",
              "    <tr>\n",
              "      <th>32</th>\n",
              "      <td>State institute imports COVID-19 vaccine rejec...</td>\n",
              "      <td>A day after Brazilian President Jair Bolsonaro...</td>\n",
              "      <td>world</td>\n",
              "    </tr>\n",
              "    <tr>\n",
              "      <th>33</th>\n",
              "      <td>US reports its biggest rise in daily COVID-19 ...</td>\n",
              "      <td>The US has recorded its biggest one-day rise i...</td>\n",
              "      <td>world</td>\n",
              "    </tr>\n",
              "    <tr>\n",
              "      <th>34</th>\n",
              "      <td>Asia becomes 2nd region in world to cross 1 cr...</td>\n",
              "      <td>Asia became the second region in the world to ...</td>\n",
              "      <td>world</td>\n",
              "    </tr>\n",
              "    <tr>\n",
              "      <th>35</th>\n",
              "      <td>Poland President Andrzej Duda tests positive f...</td>\n",
              "      <td>Polish President Andrzej Duda has tested posit...</td>\n",
              "      <td>world</td>\n",
              "    </tr>\n",
              "    <tr>\n",
              "      <th>36</th>\n",
              "      <td>We may not recognise HK residents' British ove...</td>\n",
              "      <td>China said that it may not recognise British-i...</td>\n",
              "      <td>world</td>\n",
              "    </tr>\n",
              "    <tr>\n",
              "      <th>37</th>\n",
              "      <td>Release of Fukushima's water into sea can dama...</td>\n",
              "      <td>The release of Fukushima nuclear plant's conta...</td>\n",
              "      <td>world</td>\n",
              "    </tr>\n",
              "    <tr>\n",
              "      <th>38</th>\n",
              "      <td>Will talk to UK PM to get Nawaz Sharif deporte...</td>\n",
              "      <td>Pakistan PM Imran Khan said that his governmen...</td>\n",
              "      <td>world</td>\n",
              "    </tr>\n",
              "    <tr>\n",
              "      <th>39</th>\n",
              "      <td>No justification for Uighur concentration camp...</td>\n",
              "      <td>Talking about China's treatment of Uighur Musl...</td>\n",
              "      <td>world</td>\n",
              "    </tr>\n",
              "    <tr>\n",
              "      <th>40</th>\n",
              "      <td>Former Maharashtra CM Devendra Fadnavis tests ...</td>\n",
              "      <td>BJP leader and former Maharashtra CM Devendra ...</td>\n",
              "      <td>politics</td>\n",
              "    </tr>\n",
              "    <tr>\n",
              "      <th>41</th>\n",
              "      <td>Farooq to be Prez, Mufti Vice-Prez of People's...</td>\n",
              "      <td>National Conference leader Farooq Abdullah wil...</td>\n",
              "      <td>politics</td>\n",
              "    </tr>\n",
              "    <tr>\n",
              "      <th>42</th>\n",
              "      <td>Janta Dal Rashtravadi Party's candidate shot d...</td>\n",
              "      <td>Narayan Singh, Janta Dal Rashtravadi Party's c...</td>\n",
              "      <td>politics</td>\n",
              "    </tr>\n",
              "    <tr>\n",
              "      <th>43</th>\n",
              "      <td>If you have ED, I have CD: Eknath Khadse after...</td>\n",
              "      <td>After quitting Bharatiya Janata Party (BJP) to...</td>\n",
              "      <td>politics</td>\n",
              "    </tr>\n",
              "    <tr>\n",
              "      <th>44</th>\n",
              "      <td>President Kovind, Prime Minister Modi greet na...</td>\n",
              "      <td>President Ram Nath Kovind and PM Narendra Modi...</td>\n",
              "      <td>politics</td>\n",
              "    </tr>\n",
              "    <tr>\n",
              "      <th>45</th>\n",
              "      <td>J&amp;K leaders sometimes more dangerous than sepa...</td>\n",
              "      <td>Union Minister of State (MoS) Jitendra Singh c...</td>\n",
              "      <td>politics</td>\n",
              "    </tr>\n",
              "    <tr>\n",
              "      <th>46</th>\n",
              "      <td>Conspiracies of 'Gupkar gang' will not be tole...</td>\n",
              "      <td>J&amp;K BJP chief Ravinder Raina on Saturday said ...</td>\n",
              "      <td>politics</td>\n",
              "    </tr>\n",
              "    <tr>\n",
              "      <th>47</th>\n",
              "      <td>Those who promoted jungle raj are talking of d...</td>\n",
              "      <td>Bihar CM Nitish Kumar on Saturday, in an appar...</td>\n",
              "      <td>politics</td>\n",
              "    </tr>\n",
              "    <tr>\n",
              "      <th>48</th>\n",
              "      <td>We have to light a lamp at home in honour of s...</td>\n",
              "      <td>Prime Minister Narendra Modi on Sunday address...</td>\n",
              "      <td>politics</td>\n",
              "    </tr>\n",
              "    <tr>\n",
              "      <th>49</th>\n",
              "      <td>Include sanitation workers, domestic helps, gu...</td>\n",
              "      <td>Prime Minister Narendra Modi addressed the nat...</td>\n",
              "      <td>politics</td>\n",
              "    </tr>\n",
              "    <tr>\n",
              "      <th>50</th>\n",
              "      <td>Why no Hathras-like picnic over Punjab rape: S...</td>\n",
              "      <td>Union Finance Minister Nirmala Sitharaman on S...</td>\n",
              "      <td>politics</td>\n",
              "    </tr>\n",
              "    <tr>\n",
              "      <th>51</th>\n",
              "      <td>None of the Gandhis visited rape victim's fami...</td>\n",
              "      <td>After the half-burnt body of a six-year-old gi...</td>\n",
              "      <td>politics</td>\n",
              "    </tr>\n",
              "    <tr>\n",
              "      <th>52</th>\n",
              "      <td>PM Modi pays tribute to former PM Indira Gandh...</td>\n",
              "      <td>Prime Minister Narendra Modi on Sunday remembe...</td>\n",
              "      <td>politics</td>\n",
              "    </tr>\n",
              "    <tr>\n",
              "      <th>53</th>\n",
              "      <td>Mufti must be arrested for seditious remarks o...</td>\n",
              "      <td>The J&amp;K BJP has criticised former CM Mehbooba ...</td>\n",
              "      <td>politics</td>\n",
              "    </tr>\n",
              "    <tr>\n",
              "      <th>54</th>\n",
              "      <td>Rajnath Singh performs 'Shastra Puja' with Ind...</td>\n",
              "      <td>Defence Minister Rajnath Singh on Sunday perfo...</td>\n",
              "      <td>politics</td>\n",
              "    </tr>\n",
              "    <tr>\n",
              "      <th>55</th>\n",
              "      <td>COVID-19 vaccine should be free throughout the...</td>\n",
              "      <td>Delhi CM Arvind Kejriwal on Saturday said the ...</td>\n",
              "      <td>politics</td>\n",
              "    </tr>\n",
              "    <tr>\n",
              "      <th>56</th>\n",
              "      <td>Make COVID-19 vaccine free in K'taka too: Sidd...</td>\n",
              "      <td>Opposition leader Siddaramaiah said that the K...</td>\n",
              "      <td>politics</td>\n",
              "    </tr>\n",
              "    <tr>\n",
              "      <th>57</th>\n",
              "      <td>Delhi CM Kejriwal inaugurates flyovers at Seel...</td>\n",
              "      <td>Delhi CM Arvind Kejriwal on Saturday inaugurat...</td>\n",
              "      <td>politics</td>\n",
              "    </tr>\n",
              "    <tr>\n",
              "      <th>58</th>\n",
              "      <td>Delhi court issues bailable warrant against Ka...</td>\n",
              "      <td>A Delhi court has issued a bailable warrant ag...</td>\n",
              "      <td>politics</td>\n",
              "    </tr>\n",
              "    <tr>\n",
              "      <th>59</th>\n",
              "      <td>Lalu ji to be released on Nov 9, Nitish's fare...</td>\n",
              "      <td>Rashtriya Janata Dal (RJD) leader Tejashwi Yad...</td>\n",
              "      <td>politics</td>\n",
              "    </tr>\n",
              "  </tbody>\n",
              "</table>\n",
              "</div>\n",
              "      <button class=\"colab-df-convert\" onclick=\"convertToInteractive('df-a280c8b2-72b5-4e3f-9116-894c917894b2')\"\n",
              "              title=\"Convert this dataframe to an interactive table.\"\n",
              "              style=\"display:none;\">\n",
              "        \n",
              "  <svg xmlns=\"http://www.w3.org/2000/svg\" height=\"24px\"viewBox=\"0 0 24 24\"\n",
              "       width=\"24px\">\n",
              "    <path d=\"M0 0h24v24H0V0z\" fill=\"none\"/>\n",
              "    <path d=\"M18.56 5.44l.94 2.06.94-2.06 2.06-.94-2.06-.94-.94-2.06-.94 2.06-2.06.94zm-11 1L8.5 8.5l.94-2.06 2.06-.94-2.06-.94L8.5 2.5l-.94 2.06-2.06.94zm10 10l.94 2.06.94-2.06 2.06-.94-2.06-.94-.94-2.06-.94 2.06-2.06.94z\"/><path d=\"M17.41 7.96l-1.37-1.37c-.4-.4-.92-.59-1.43-.59-.52 0-1.04.2-1.43.59L10.3 9.45l-7.72 7.72c-.78.78-.78 2.05 0 2.83L4 21.41c.39.39.9.59 1.41.59.51 0 1.02-.2 1.41-.59l7.78-7.78 2.81-2.81c.8-.78.8-2.07 0-2.86zM5.41 20L4 18.59l7.72-7.72 1.47 1.35L5.41 20z\"/>\n",
              "  </svg>\n",
              "      </button>\n",
              "      \n",
              "  <style>\n",
              "    .colab-df-container {\n",
              "      display:flex;\n",
              "      flex-wrap:wrap;\n",
              "      gap: 12px;\n",
              "    }\n",
              "\n",
              "    .colab-df-convert {\n",
              "      background-color: #E8F0FE;\n",
              "      border: none;\n",
              "      border-radius: 50%;\n",
              "      cursor: pointer;\n",
              "      display: none;\n",
              "      fill: #1967D2;\n",
              "      height: 32px;\n",
              "      padding: 0 0 0 0;\n",
              "      width: 32px;\n",
              "    }\n",
              "\n",
              "    .colab-df-convert:hover {\n",
              "      background-color: #E2EBFA;\n",
              "      box-shadow: 0px 1px 2px rgba(60, 64, 67, 0.3), 0px 1px 3px 1px rgba(60, 64, 67, 0.15);\n",
              "      fill: #174EA6;\n",
              "    }\n",
              "\n",
              "    [theme=dark] .colab-df-convert {\n",
              "      background-color: #3B4455;\n",
              "      fill: #D2E3FC;\n",
              "    }\n",
              "\n",
              "    [theme=dark] .colab-df-convert:hover {\n",
              "      background-color: #434B5C;\n",
              "      box-shadow: 0px 1px 3px 1px rgba(0, 0, 0, 0.15);\n",
              "      filter: drop-shadow(0px 1px 2px rgba(0, 0, 0, 0.3));\n",
              "      fill: #FFFFFF;\n",
              "    }\n",
              "  </style>\n",
              "\n",
              "      <script>\n",
              "        const buttonEl =\n",
              "          document.querySelector('#df-a280c8b2-72b5-4e3f-9116-894c917894b2 button.colab-df-convert');\n",
              "        buttonEl.style.display =\n",
              "          google.colab.kernel.accessAllowed ? 'block' : 'none';\n",
              "\n",
              "        async function convertToInteractive(key) {\n",
              "          const element = document.querySelector('#df-a280c8b2-72b5-4e3f-9116-894c917894b2');\n",
              "          const dataTable =\n",
              "            await google.colab.kernel.invokeFunction('convertToInteractive',\n",
              "                                                     [key], {});\n",
              "          if (!dataTable) return;\n",
              "\n",
              "          const docLinkHtml = 'Like what you see? Visit the ' +\n",
              "            '<a target=\"_blank\" href=https://colab.research.google.com/notebooks/data_table.ipynb>data table notebook</a>'\n",
              "            + ' to learn more about interactive tables.';\n",
              "          element.innerHTML = '';\n",
              "          dataTable['output_type'] = 'display_data';\n",
              "          await google.colab.output.renderOutput(dataTable, element);\n",
              "          const docLink = document.createElement('div');\n",
              "          docLink.innerHTML = docLinkHtml;\n",
              "          element.appendChild(docLink);\n",
              "        }\n",
              "      </script>\n",
              "    </div>\n",
              "  </div>\n",
              "  "
            ]
          },
          "metadata": {},
          "execution_count": 36
        }
      ]
    },
    {
      "cell_type": "code",
      "source": [
        "df.info()"
      ],
      "metadata": {
        "colab": {
          "base_uri": "https://localhost:8080/"
        },
        "id": "XQQ8isuAmGjH",
        "outputId": "56168e8f-e0f7-4cc8-d3d4-349f15817689"
      },
      "execution_count": null,
      "outputs": [
        {
          "output_type": "stream",
          "name": "stdout",
          "text": [
            "<class 'pandas.core.frame.DataFrame'>\n",
            "RangeIndex: 60 entries, 0 to 59\n",
            "Data columns (total 3 columns):\n",
            " #   Column         Non-Null Count  Dtype \n",
            "---  ------         --------------  ----- \n",
            " 0   news_headline  60 non-null     object\n",
            " 1   news_article   60 non-null     object\n",
            " 2   news_category  60 non-null     object\n",
            "dtypes: object(3)\n",
            "memory usage: 1.5+ KB\n"
          ]
        }
      ]
    },
    {
      "cell_type": "code",
      "source": [
        "df['news_category'].value_counts()"
      ],
      "metadata": {
        "colab": {
          "base_uri": "https://localhost:8080/"
        },
        "id": "_A58zFe-nrzi",
        "outputId": "a500704a-7274-4bb2-9b24-0bc822f5a048"
      },
      "execution_count": null,
      "outputs": [
        {
          "output_type": "execute_result",
          "data": {
            "text/plain": [
              "sports      20\n",
              "world       20\n",
              "politics    20\n",
              "Name: news_category, dtype: int64"
            ]
          },
          "metadata": {},
          "execution_count": 38
        }
      ]
    },
    {
      "cell_type": "code",
      "source": [
        "df['news_category'].value_counts().plot(kind = 'bar')"
      ],
      "metadata": {
        "colab": {
          "base_uri": "https://localhost:8080/",
          "height": 308
        },
        "id": "jrV1YTemn_f7",
        "outputId": "83ab4c82-d673-4b94-af45-2bfc274b64aa"
      },
      "execution_count": null,
      "outputs": [
        {
          "output_type": "execute_result",
          "data": {
            "text/plain": [
              "<matplotlib.axes._subplots.AxesSubplot at 0x7f5c9ffb3050>"
            ]
          },
          "metadata": {},
          "execution_count": 39
        },
        {
          "output_type": "display_data",
          "data": {
            "text/plain": [
              "<Figure size 432x288 with 1 Axes>"
            ],
            "image/png": "[encoded data removed]"
          },
          "metadata": {
            "needs_background": "light"
          }
        }
      ]
    },
    {
      "cell_type": "code",
      "source": [
        "x = df.iloc[:,0].values \n",
        "y = df.iloc[:,2].values"
      ],
      "metadata": {
        "id": "ZQZOM-ecoP7P"
      },
      "execution_count": null,
      "outputs": []
    },
    {
      "cell_type": "code",
      "source": [
        "from sklearn.model_selection import train_test_split\n",
        "x_train,x_test,y_train,y_test = train_test_split(x,y,random_state = 0) "
      ],
      "metadata": {
        "id": "XeMJR5Iio8I2"
      },
      "execution_count": null,
      "outputs": []
    },
    {
      "cell_type": "code",
      "source": [
        "from sklearn.feature_extraction.text import TfidfVectorizer\n",
        "vect = TfidfVectorizer()\n",
        "x_train_v = vect.fit_transform(x_train)\n",
        "x_test_v = vect.transform(x_test)"
      ],
      "metadata": {
        "id": "Ijv2YXU7pcRH"
      },
      "execution_count": null,
      "outputs": []
    },
    {
      "cell_type": "code",
      "source": [
        "from sklearn.svm import SVC\n",
        "model = SVC()"
      ],
      "metadata": {
        "id": "nDAsL7Keqm0M"
      },
      "execution_count": null,
      "outputs": []
    },
    {
      "cell_type": "code",
      "source": [
        "model.fit(x_train_v,y_train)\n"
      ],
      "metadata": {
        "colab": {
          "base_uri": "https://localhost:8080/"
        },
        "id": "bIV_HMLcq0-f",
        "outputId": "7e74d8fb-324e-479f-92fe-7c6ae0149b37"
      },
      "execution_count": null,
      "outputs": [
        {
          "output_type": "execute_result",
          "data": {
            "text/plain": [
              "SVC()"
            ]
          },
          "metadata": {},
          "execution_count": 44
        }
      ]
    },
    {
      "cell_type": "code",
      "source": [
        "y_pred = model.predict(x_test_v)\n",
        "y_pred "
      ],
      "metadata": {
        "colab": {
          "base_uri": "https://localhost:8080/"
        },
        "id": "el29Oqa7q8h2",
        "outputId": "cb1d2179-5842-4c87-da2b-8aae9f6645b0"
      },
      "execution_count": null,
      "outputs": [
        {
          "output_type": "execute_result",
          "data": {
            "text/plain": [
              "array(['sports', 'politics', 'politics', 'politics', 'politics',\n",
              "       'politics', 'politics', 'politics', 'politics', 'politics',\n",
              "       'sports', 'sports', 'politics', 'politics', 'politics'],\n",
              "      dtype=object)"
            ]
          },
          "metadata": {},
          "execution_count": 14
        }
      ]
    },
    {
      "cell_type": "code",
      "source": [
        "y_test "
      ],
      "metadata": {
        "colab": {
          "base_uri": "https://localhost:8080/"
        },
        "id": "unYK6D3irKuU",
        "outputId": "ceed01f3-af94-4e6e-b5c1-10d98615b7e2"
      },
      "execution_count": null,
      "outputs": [
        {
          "output_type": "execute_result",
          "data": {
            "text/plain": [
              "array(['world', 'world', 'politics', 'world', 'sports', 'sports', 'world',\n",
              "       'politics', 'politics', 'world', 'sports', 'sports', 'world',\n",
              "       'politics', 'world'], dtype=object)"
            ]
          },
          "metadata": {},
          "execution_count": 15
        }
      ]
    },
    {
      "cell_type": "code",
      "source": [
        "from sklearn.metrics import accuracy_score\n",
        "accuracy_score(y_pred,y_test)*100"
      ],
      "metadata": {
        "colab": {
          "base_uri": "https://localhost:8080/"
        },
        "id": "iKtZUgFzrPmW",
        "outputId": "dabc2fd2-4f4a-4032-aa77-6dee47eb2ffa"
      },
      "execution_count": null,
      "outputs": [
        {
          "output_type": "execute_result",
          "data": {
            "text/plain": [
              "40.0"
            ]
          },
          "metadata": {},
          "execution_count": 16
        }
      ]
    },
    {
      "cell_type": "code",
      "source": [
        "a = df['news_headline'][10]\n",
        "a"
      ],
      "metadata": {
        "colab": {
          "base_uri": "https://localhost:8080/",
          "height": 35
        },
        "id": "Mq2poGz3sDUS",
        "outputId": "c90c6f30-74c9-4f13-b252-99b3cdd71208"
      },
      "execution_count": null,
      "outputs": [
        {
          "output_type": "execute_result",
          "data": {
            "text/plain": [
              "'KXIP take last 6 wickets in 13 balls to defend 126-run total vs SRH'"
            ],
            "application/vnd.google.colaboratory.intrinsic+json": {
              "type": "string"
            }
          },
          "metadata": {},
          "execution_count": 17
        }
      ]
    },
    {
      "cell_type": "code",
      "source": [
        "a = vect.transform([a])\n",
        "model.predict(a)"
      ],
      "metadata": {
        "colab": {
          "base_uri": "https://localhost:8080/"
        },
        "id": "bJ06HXRQsgq1",
        "outputId": "721d09cd-4876-4a81-baae-eff340c1e469"
      },
      "execution_count": null,
      "outputs": [
        {
          "output_type": "execute_result",
          "data": {
            "text/plain": [
              "array(['sports'], dtype=object)"
            ]
          },
          "metadata": {},
          "execution_count": 18
        }
      ]
    },
    {
      "cell_type": "code",
      "source": [
        "b = df['news_headline'][40]\n",
        "b"
      ],
      "metadata": {
        "colab": {
          "base_uri": "https://localhost:8080/",
          "height": 35
        },
        "id": "njvsGo1LsvHv",
        "outputId": "c83c20f8-5248-427b-9fb5-57e237ec75d3"
      },
      "execution_count": null,
      "outputs": [
        {
          "output_type": "execute_result",
          "data": {
            "text/plain": [
              "'Former Maharashtra CM Devendra Fadnavis tests COVID-19 positive'"
            ],
            "application/vnd.google.colaboratory.intrinsic+json": {
              "type": "string"
            }
          },
          "metadata": {},
          "execution_count": 19
        }
      ]
    },
    {
      "cell_type": "code",
      "source": [
        "b = vect.transform([b])\n",
        "model.predict(b)"
      ],
      "metadata": {
        "colab": {
          "base_uri": "https://localhost:8080/"
        },
        "outputId": "d4b7db36-0fc3-411a-e519-2b94ffe9b37f",
        "id": "3tCuXYghLZDJ"
      },
      "execution_count": null,
      "outputs": [
        {
          "output_type": "execute_result",
          "data": {
            "text/plain": [
              "array(['politics'], dtype=object)"
            ]
          },
          "metadata": {},
          "execution_count": 20
        }
      ]
    },
    {
      "cell_type": "code",
      "source": [
        "c = df['news_headline'][36]\n",
        "c"
      ],
      "metadata": {
        "colab": {
          "base_uri": "https://localhost:8080/",
          "height": 35
        },
        "outputId": "865a3145-ea95-4bb3-bdbd-b8c6fcc78904",
        "id": "Q694c_64LiTC"
      },
      "execution_count": null,
      "outputs": [
        {
          "output_type": "execute_result",
          "data": {
            "text/plain": [
              "\"We may not recognise HK residents' British overseas passports: China\""
            ],
            "application/vnd.google.colaboratory.intrinsic+json": {
              "type": "string"
            }
          },
          "metadata": {},
          "execution_count": 21
        }
      ]
    },
    {
      "cell_type": "code",
      "source": [
        "c = vect.transform([c])\n",
        "model.predict(c)"
      ],
      "metadata": {
        "colab": {
          "base_uri": "https://localhost:8080/"
        },
        "outputId": "b3ffd64f-3f95-494b-fc0b-628ea0f0715e",
        "id": "RKgQCbUELtTh"
      },
      "execution_count": null,
      "outputs": [
        {
          "output_type": "execute_result",
          "data": {
            "text/plain": [
              "array(['world'], dtype=object)"
            ]
          },
          "metadata": {},
          "execution_count": 22
        }
      ]
    },
    {
      "cell_type": "code",
      "source": [
        "d=\"IPL 2020 points table is getting interesting\"\n",
        "d"
      ],
      "metadata": {
        "colab": {
          "base_uri": "https://localhost:8080/",
          "height": 35
        },
        "outputId": "7346bafc-1700-439c-fa63-fad7fa2df7b7",
        "id": "G65SNEtOL7qY"
      },
      "execution_count": null,
      "outputs": [
        {
          "output_type": "execute_result",
          "data": {
            "text/plain": [
              "'IPL 2020 points table is getting interesting'"
            ],
            "application/vnd.google.colaboratory.intrinsic+json": {
              "type": "string"
            }
          },
          "metadata": {},
          "execution_count": 23
        }
      ]
    },
    {
      "cell_type": "code",
      "source": [
        "d = vect.transform([d])\n",
        "model.predict(d)"
      ],
      "metadata": {
        "colab": {
          "base_uri": "https://localhost:8080/"
        },
        "outputId": "c6b4f532-f20c-4aba-8328-5890660d0faa",
        "id": "ciPUe1TkMNfR"
      },
      "execution_count": null,
      "outputs": [
        {
          "output_type": "execute_result",
          "data": {
            "text/plain": [
              "array(['sports'], dtype=object)"
            ]
          },
          "metadata": {},
          "execution_count": 24
        }
      ]
    },
    {
      "cell_type": "code",
      "source": [
        "from sklearn.pipeline import make_pipeline\n",
        "text_model = make_pipeline(TfidfVectorizer(),SVC())\n",
        "text_model.fit(x_train,y_train)"
      ],
      "metadata": {
        "colab": {
          "base_uri": "https://localhost:8080/"
        },
        "id": "H3D1ElG5wHIv",
        "outputId": "af3d984b-502b-4679-f331-5124ba37d091"
      },
      "execution_count": null,
      "outputs": [
        {
          "output_type": "execute_result",
          "data": {
            "text/plain": [
              "Pipeline(steps=[('tfidfvectorizer', TfidfVectorizer()), ('svc', SVC())])"
            ]
          },
          "metadata": {},
          "execution_count": 25
        }
      ]
    },
    {
      "cell_type": "code",
      "source": [
        "y_pred1 = text_model.predict(x_test)\n",
        "y_pred1"
      ],
      "metadata": {
        "colab": {
          "base_uri": "https://localhost:8080/"
        },
        "id": "fdHZNnQmwfIl",
        "outputId": "5f3a8c89-424a-40f5-c19c-18d654cf0f31"
      },
      "execution_count": null,
      "outputs": [
        {
          "output_type": "execute_result",
          "data": {
            "text/plain": [
              "array(['sports', 'politics', 'politics', 'politics', 'politics',\n",
              "       'politics', 'politics', 'politics', 'politics', 'politics',\n",
              "       'sports', 'sports', 'politics', 'politics', 'politics'],\n",
              "      dtype=object)"
            ]
          },
          "metadata": {},
          "execution_count": 26
        }
      ]
    },
    {
      "cell_type": "code",
      "source": [
        "y_test"
      ],
      "metadata": {
        "colab": {
          "base_uri": "https://localhost:8080/"
        },
        "id": "ewXrYW9Gw-y_",
        "outputId": "55713e6f-f724-4ae6-cd6e-f38286462058"
      },
      "execution_count": null,
      "outputs": [
        {
          "output_type": "execute_result",
          "data": {
            "text/plain": [
              "array(['world', 'world', 'politics', 'world', 'sports', 'sports', 'world',\n",
              "       'politics', 'politics', 'world', 'sports', 'sports', 'world',\n",
              "       'politics', 'world'], dtype=object)"
            ]
          },
          "metadata": {},
          "execution_count": 27
        }
      ]
    },
    {
      "cell_type": "code",
      "source": [
        "accuracy_score(y_pred1,y_test)*100"
      ],
      "metadata": {
        "colab": {
          "base_uri": "https://localhost:8080/"
        },
        "id": "XoNGC74LxCyP",
        "outputId": "abb051b3-170c-4af2-beb3-7803252d6845"
      },
      "execution_count": null,
      "outputs": [
        {
          "output_type": "execute_result",
          "data": {
            "text/plain": [
              "40.0"
            ]
          },
          "metadata": {},
          "execution_count": 28
        }
      ]
    },
    {
      "cell_type": "code",
      "source": [
        "a1 = df['news_headline'][50]\n",
        "a1\n"
      ],
      "metadata": {
        "colab": {
          "base_uri": "https://localhost:8080/",
          "height": 35
        },
        "id": "Gw60y32txKXA",
        "outputId": "4eb728ca-7e7f-467e-de01-cc7ae78bfa2b"
      },
      "execution_count": null,
      "outputs": [
        {
          "output_type": "execute_result",
          "data": {
            "text/plain": [
              "'Why no Hathras-like picnic over Punjab rape: Sitharaman on Rahul, Priyanka'"
            ],
            "application/vnd.google.colaboratory.intrinsic+json": {
              "type": "string"
            }
          },
          "metadata": {},
          "execution_count": 29
        }
      ]
    },
    {
      "cell_type": "code",
      "source": [
        "text_model.predict(['a1'])"
      ],
      "metadata": {
        "colab": {
          "base_uri": "https://localhost:8080/"
        },
        "id": "q1B-cCb9xebu",
        "outputId": "f8c0069b-a57e-4616-b01d-381b72ff599a"
      },
      "execution_count": null,
      "outputs": [
        {
          "output_type": "execute_result",
          "data": {
            "text/plain": [
              "array(['politics'], dtype=object)"
            ]
          },
          "metadata": {},
          "execution_count": 30
        }
      ]
    },
    {
      "cell_type": "code",
      "source": [
        "text_model.predict(['PM modi'])"
      ],
      "metadata": {
        "colab": {
          "base_uri": "https://localhost:8080/"
        },
        "outputId": "ba961c96-8d67-4e2a-8697-36a842403651",
        "id": "S6xbbk7NOGlT"
      },
      "execution_count": null,
      "outputs": [
        {
          "output_type": "execute_result",
          "data": {
            "text/plain": [
              "array(['politics'], dtype=object)"
            ]
          },
          "metadata": {},
          "execution_count": 31
        }
      ]
    },
    {
      "cell_type": "code",
      "source": [
        "import joblib\n",
        "joblib.dump(text_model,'news_category')\n"
      ],
      "metadata": {
        "colab": {
          "base_uri": "https://localhost:8080/"
        },
        "id": "EUcSLM7FxnE6",
        "outputId": "9df52ee2-c4a9-4d7e-b203-ff628b825cbe"
      },
      "execution_count": null,
      "outputs": [
        {
          "output_type": "execute_result",
          "data": {
            "text/plain": [
              "['news_category']"
            ]
          },
          "metadata": {},
          "execution_count": 32
        }
      ]
    },
    {
      "cell_type": "code",
      "source": [
        "!pip install streamlit --quiet "
      ],
      "metadata": {
        "id": "Z2rn98cX1pUj"
      },
      "execution_count": null,
      "outputs": []
    },
    {
      "cell_type": "code",
      "source": [
        "%%writefile app.py\n",
        "#%%writefile app.py is a magic command which creates a file named app.py\n",
        "import streamlit as st\n",
        "import joblib\n",
        "model = joblib.load('news_category')\n",
        "st.title('NEWS-CATEGORY')# creates a title with name spam-ham classifier\n",
        "ip = st.text_input('Enter the Message')#creates a text box\n",
        "op = model.predict([ip])\n",
        "if st.button('Predict category'):\n",
        "  st.title(op[0])#st.button will create a button with name predict\n",
        "  #st.title(op[0]) - the output will be displayed as a title"
      ],
      "metadata": {
        "colab": {
          "base_uri": "https://localhost:8080/"
        },
        "id": "hd0pQs4S1yVs",
        "outputId": "b9760210-4dfb-4175-8b1d-c7b7e16c2a8f"
      },
      "execution_count": null,
      "outputs": [
        {
          "output_type": "stream",
          "name": "stdout",
          "text": [
            "Writing app.py\n"
          ]
        }
      ]
    },
    {
      "cell_type": "code",
      "source": [
        "\n",
        "!streamlit run app.py & npx localtunnel --port 8501\n",
        "#Temporary deployment"
      ],
      "metadata": {
        "colab": {
          "base_uri": "https://localhost:8080/"
        },
        "id": "xoH-Gqfs4Ayn",
        "outputId": "ab513410-f5bd-4050-a7f9-0735e13dbf10"
      },
      "execution_count": null,
      "outputs": [
        {
          "output_type": "stream",
          "name": "stdout",
          "text": [
            "2022-07-15 17:19:27.816 INFO    numexpr.utils: NumExpr defaulting to 2 threads.\n",
            "\u001b[0m\n",
            "\u001b[34m\u001b[1m  You can now view your Streamlit app in your browser.\u001b[0m\n",
            "\u001b[0m\n",
            "\u001b[34m  Network URL: \u001b[0m\u001b[1mhttp://172.28.0.2:8501\u001b[0m\n",
            "\u001b[34m  External URL: \u001b[0m\u001b[1mhttp://34.73.235.132:8501\u001b[0m\n",
            "\u001b[0m\n",
            "\u001b[K\u001b[?25hnpx: installed 22 in 4.997s\n",
            "\u001b[34m  Stopping...\u001b[0m\n",
            "^C\n"
          ]
        }
      ]
    }
  ]
}